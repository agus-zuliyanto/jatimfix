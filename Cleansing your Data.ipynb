{
 "cells": [
  {
   "cell_type": "markdown",
   "execution_count": null,
   "metadata": {},
   "outputs": [],
   "source": [
    "This is maybe I would say is part 1.5 because it is just merge data from part 1 before and my data that collected on [this](https://github.com/rizkysifaul/Coursera_Capstone) page, since that it is find as a population and density. Let's merged!"
   ]
  },
  {
   "cell_type": "code",
   "execution_count": 1,
   "metadata": {},
   "outputs": [],
   "source": [
    "import pandas as pd"
   ]
  },
  {
   "cell_type": "markdown",
   "execution_count": null,
   "metadata": {},
   "outputs": [],
   "source": [
    "We are importing two data, data from part 1 before and data area which is I gathered."
   ]
  },
  {
   "cell_type": "code",
   "execution_count": 5,
   "metadata": {},
   "outputs": [],
   "source": [
    "data_penduduk = pd.read_csv(\"Data Penduduk Surabaya.csv\")\n",
    "data_area     = pd.read_csv(\"data/surabaya_area.csv\")"
   ]
  },
  {
   "cell_type": "code",
   "execution_count": 6,
   "metadata": {},
   "outputs": [
    {
     "data": {
      "text/html": "<div>\n<style scoped>\n    .dataframe tbody tr th:only-of-type {\n        vertical-align: middle;\n    }\n\n    .dataframe tbody tr th {\n        vertical-align: top;\n    }\n\n    .dataframe thead th {\n        text-align: right;\n    }\n</style>\n<table border=\"1\" class=\"dataframe\">\n  <thead>\n    <tr style=\"text-align: right;\">\n      <th></th>\n      <th>District</th>\n      <th>Male</th>\n      <th>Female</th>\n      <th>Total</th>\n    </tr>\n  </thead>\n  <tbody>\n    <tr>\n      <th>0</th>\n      <td>Tegalsari</td>\n      <td>50843</td>\n      <td>50873</td>\n      <td>101716</td>\n    </tr>\n    <tr>\n      <th>1</th>\n      <td>Genteng</td>\n      <td>29387</td>\n      <td>29886</td>\n      <td>59273</td>\n    </tr>\n    <tr>\n      <th>2</th>\n      <td>Bubutan</td>\n      <td>50909</td>\n      <td>50903</td>\n      <td>101812</td>\n    </tr>\n    <tr>\n      <th>3</th>\n      <td>Simokerto</td>\n      <td>48905</td>\n      <td>48808</td>\n      <td>97713</td>\n    </tr>\n    <tr>\n      <th>4</th>\n      <td>Pabean Cantikan</td>\n      <td>41419</td>\n      <td>40964</td>\n      <td>82383</td>\n    </tr>\n    <tr>\n      <th>5</th>\n      <td>Semampir</td>\n      <td>92390</td>\n      <td>90141</td>\n      <td>182531</td>\n    </tr>\n    <tr>\n      <th>6</th>\n      <td>Krembangan</td>\n      <td>58136</td>\n      <td>57502</td>\n      <td>115638</td>\n    </tr>\n    <tr>\n      <th>7</th>\n      <td>Kenjeran</td>\n      <td>74597</td>\n      <td>72160</td>\n      <td>146757</td>\n    </tr>\n    <tr>\n      <th>8</th>\n      <td>Bulak</td>\n      <td>20446</td>\n      <td>20196</td>\n      <td>40642</td>\n    </tr>\n    <tr>\n      <th>9</th>\n      <td>Tambaksari</td>\n      <td>108625</td>\n      <td>108475</td>\n      <td>217100</td>\n    </tr>\n    <tr>\n      <th>10</th>\n      <td>Gubeng</td>\n      <td>67403</td>\n      <td>69218</td>\n      <td>136621</td>\n    </tr>\n    <tr>\n      <th>11</th>\n      <td>Rungkut</td>\n      <td>52120</td>\n      <td>51926</td>\n      <td>104046</td>\n    </tr>\n    <tr>\n      <th>12</th>\n      <td>Tenggilis Mejoyo</td>\n      <td>27386</td>\n      <td>27475</td>\n      <td>54861</td>\n    </tr>\n    <tr>\n      <th>13</th>\n      <td>Gunung Anyar</td>\n      <td>26188</td>\n      <td>25932</td>\n      <td>52120</td>\n    </tr>\n    <tr>\n      <th>14</th>\n      <td>Sukolilo</td>\n      <td>52445</td>\n      <td>52448</td>\n      <td>104893</td>\n    </tr>\n    <tr>\n      <th>15</th>\n      <td>Mulyorejo</td>\n      <td>41178</td>\n      <td>41595</td>\n      <td>82773</td>\n    </tr>\n    <tr>\n      <th>16</th>\n      <td>Sawahan</td>\n      <td>100426</td>\n      <td>101295</td>\n      <td>201721</td>\n    </tr>\n    <tr>\n      <th>17</th>\n      <td>Wonokromo</td>\n      <td>79629</td>\n      <td>80335</td>\n      <td>159964</td>\n    </tr>\n    <tr>\n      <th>18</th>\n      <td>Karangpilang</td>\n      <td>35382</td>\n      <td>34940</td>\n      <td>70322</td>\n    </tr>\n    <tr>\n      <th>19</th>\n      <td>Dukuh Pakis</td>\n      <td>29245</td>\n      <td>29184</td>\n      <td>58429</td>\n    </tr>\n    <tr>\n      <th>20</th>\n      <td>Wiyung</td>\n      <td>33220</td>\n      <td>32522</td>\n      <td>65742</td>\n    </tr>\n    <tr>\n      <th>21</th>\n      <td>Wonocolo</td>\n      <td>39299</td>\n      <td>39038</td>\n      <td>78337</td>\n    </tr>\n    <tr>\n      <th>22</th>\n      <td>Gayungan</td>\n      <td>22104</td>\n      <td>21988</td>\n      <td>44092</td>\n    </tr>\n    <tr>\n      <th>23</th>\n      <td>Jambangan</td>\n      <td>23986</td>\n      <td>23562</td>\n      <td>47548</td>\n    </tr>\n    <tr>\n      <th>24</th>\n      <td>Tandes</td>\n      <td>44757</td>\n      <td>44712</td>\n      <td>89469</td>\n    </tr>\n    <tr>\n      <th>25</th>\n      <td>Sukomanunggal</td>\n      <td>49067</td>\n      <td>48842</td>\n      <td>97909</td>\n    </tr>\n    <tr>\n      <th>26</th>\n      <td>Asemrowo</td>\n      <td>22068</td>\n      <td>20905</td>\n      <td>42973</td>\n    </tr>\n    <tr>\n      <th>27</th>\n      <td>Benowo</td>\n      <td>28145</td>\n      <td>27609</td>\n      <td>55754</td>\n    </tr>\n    <tr>\n      <th>28</th>\n      <td>Lakarsantri</td>\n      <td>27042</td>\n      <td>26430</td>\n      <td>53472</td>\n    </tr>\n    <tr>\n      <th>29</th>\n      <td>Pakal</td>\n      <td>24716</td>\n      <td>23768</td>\n      <td>48484</td>\n    </tr>\n    <tr>\n      <th>30</th>\n      <td>Sambikerep</td>\n      <td>29522</td>\n      <td>29044</td>\n      <td>58566</td>\n    </tr>\n  </tbody>\n</table>\n</div>",
      "text/plain": "            District    Male  Female   Total\n0          Tegalsari   50843   50873  101716\n1            Genteng   29387   29886   59273\n2            Bubutan   50909   50903  101812\n3          Simokerto   48905   48808   97713\n4    Pabean Cantikan   41419   40964   82383\n5           Semampir   92390   90141  182531\n6         Krembangan   58136   57502  115638\n7           Kenjeran   74597   72160  146757\n8              Bulak   20446   20196   40642\n9         Tambaksari  108625  108475  217100\n10            Gubeng   67403   69218  136621\n11           Rungkut   52120   51926  104046\n12  Tenggilis Mejoyo   27386   27475   54861\n13      Gunung Anyar   26188   25932   52120\n14          Sukolilo   52445   52448  104893\n15         Mulyorejo   41178   41595   82773\n16           Sawahan  100426  101295  201721\n17         Wonokromo   79629   80335  159964\n18      Karangpilang   35382   34940   70322\n19       Dukuh Pakis   29245   29184   58429\n20            Wiyung   33220   32522   65742\n21          Wonocolo   39299   39038   78337\n22          Gayungan   22104   21988   44092\n23         Jambangan   23986   23562   47548\n24            Tandes   44757   44712   89469\n25     Sukomanunggal   49067   48842   97909\n26          Asemrowo   22068   20905   42973\n27            Benowo   28145   27609   55754\n28       Lakarsantri   27042   26430   53472\n29             Pakal   24716   23768   48484\n30        Sambikerep   29522   29044   58566"
     },
     "execution_count": 6,
     "metadata": {},
     "output_type": "execute_result"
    }
   ],
   "source": [
    "data_penduduk"
   ]
  },
  {
   "cell_type": "code",
   "execution_count": 7,
   "metadata": {},
   "outputs": [
    {
     "data": {
      "text/html": "<div>\n<style scoped>\n    .dataframe tbody tr th:only-of-type {\n        vertical-align: middle;\n    }\n\n    .dataframe tbody tr th {\n        vertical-align: top;\n    }\n\n    .dataframe thead th {\n        text-align: right;\n    }\n</style>\n<table border=\"1\" class=\"dataframe\">\n  <thead>\n    <tr style=\"text-align: right;\">\n      <th></th>\n      <th>Neighborhood</th>\n      <th>Areas Region(km squared)</th>\n      <th>Borough</th>\n      <th>latitude</th>\n      <th>longitude</th>\n    </tr>\n  </thead>\n  <tbody>\n    <tr>\n      <th>0</th>\n      <td>TEGALSARI</td>\n      <td>4.29</td>\n      <td>Surabaya Pusat</td>\n      <td>-8.40185</td>\n      <td>114.11810</td>\n    </tr>\n    <tr>\n      <th>1</th>\n      <td>GENTENG</td>\n      <td>4.05</td>\n      <td>Surabaya Pusat</td>\n      <td>-8.36658</td>\n      <td>114.14630</td>\n    </tr>\n    <tr>\n      <th>2</th>\n      <td>BUBUTAN</td>\n      <td>3.86</td>\n      <td>Surabaya Pusat</td>\n      <td>-7.24996</td>\n      <td>112.73011</td>\n    </tr>\n    <tr>\n      <th>3</th>\n      <td>SIMOKERTO</td>\n      <td>2.59</td>\n      <td>Surabaya Pusat</td>\n      <td>-7.23865</td>\n      <td>112.75394</td>\n    </tr>\n    <tr>\n      <th>4</th>\n      <td>PABEAN CANTIKAN</td>\n      <td>6.80</td>\n      <td>Surabaya Utara</td>\n      <td>-7.21475</td>\n      <td>112.73011</td>\n    </tr>\n    <tr>\n      <th>5</th>\n      <td>SEMAMPIR</td>\n      <td>8.76</td>\n      <td>Surabaya Utara</td>\n      <td>-7.21146</td>\n      <td>112.74501</td>\n    </tr>\n    <tr>\n      <th>6</th>\n      <td>KREMBANGAN</td>\n      <td>8.34</td>\n      <td>Surabaya Utara</td>\n      <td>-7.23015</td>\n      <td>112.72415</td>\n    </tr>\n    <tr>\n      <th>7</th>\n      <td>KENJERAN</td>\n      <td>7.77</td>\n      <td>Surabaya Utara</td>\n      <td>-7.22027</td>\n      <td>112.76884</td>\n    </tr>\n    <tr>\n      <th>8</th>\n      <td>BULAK</td>\n      <td>6.72</td>\n      <td>Surabaya Utara</td>\n      <td>-7.23677</td>\n      <td>112.78970</td>\n    </tr>\n    <tr>\n      <th>9</th>\n      <td>TAMBAKSARI</td>\n      <td>8.99</td>\n      <td>Surabaya Timur</td>\n      <td>-7.25044</td>\n      <td>112.76884</td>\n    </tr>\n    <tr>\n      <th>10</th>\n      <td>GUBENG</td>\n      <td>7.99</td>\n      <td>Surabaya Timur</td>\n      <td>-7.27891</td>\n      <td>112.75394</td>\n    </tr>\n    <tr>\n      <th>11</th>\n      <td>RUNGKUT</td>\n      <td>21.08</td>\n      <td>Surabaya Timur</td>\n      <td>-7.31902</td>\n      <td>112.80459</td>\n    </tr>\n    <tr>\n      <th>12</th>\n      <td>TENGGILIS MEJOYO</td>\n      <td>5.52</td>\n      <td>Surabaya Timur</td>\n      <td>-7.32423</td>\n      <td>112.75394</td>\n    </tr>\n    <tr>\n      <th>13</th>\n      <td>GUNUNG ANYAR</td>\n      <td>9.71</td>\n      <td>Surabaya Timur</td>\n      <td>-7.33916</td>\n      <td>112.80459</td>\n    </tr>\n    <tr>\n      <th>14</th>\n      <td>SUKOLILO</td>\n      <td>23.68</td>\n      <td>Surabaya Timur</td>\n      <td>-7.28818</td>\n      <td>112.81651</td>\n    </tr>\n    <tr>\n      <th>15</th>\n      <td>MULYOREJO</td>\n      <td>14.21</td>\n      <td>Surabaya Timur</td>\n      <td>-7.26931</td>\n      <td>112.79268</td>\n    </tr>\n    <tr>\n      <th>16</th>\n      <td>SAWAHAN</td>\n      <td>6.93</td>\n      <td>Surabaya Selatan</td>\n      <td>-7.26301</td>\n      <td>112.72117</td>\n    </tr>\n    <tr>\n      <th>17</th>\n      <td>WONOKROMO</td>\n      <td>8.47</td>\n      <td>Surabaya Selatan</td>\n      <td>-7.30266</td>\n      <td>112.73309</td>\n    </tr>\n    <tr>\n      <th>18</th>\n      <td>KARANGPILANG</td>\n      <td>9.23</td>\n      <td>Surabaya Selatan</td>\n      <td>-7.33778</td>\n      <td>112.68840</td>\n    </tr>\n    <tr>\n      <th>19</th>\n      <td>DUKUH PAKIS</td>\n      <td>9.94</td>\n      <td>Surabaya Selatan</td>\n      <td>-7.29684</td>\n      <td>112.70032</td>\n    </tr>\n    <tr>\n      <th>20</th>\n      <td>WIYUNG</td>\n      <td>12.46</td>\n      <td>Surabaya Selatan</td>\n      <td>-7.31526</td>\n      <td>112.68542</td>\n    </tr>\n    <tr>\n      <th>21</th>\n      <td>WONOCOLO</td>\n      <td>6.77</td>\n      <td>Surabaya Selatan</td>\n      <td>-7.31982</td>\n      <td>112.74203</td>\n    </tr>\n    <tr>\n      <th>22</th>\n      <td>GAYUNGAN</td>\n      <td>6.07</td>\n      <td>Surabaya Selatan</td>\n      <td>-7.33084</td>\n      <td>112.72415</td>\n    </tr>\n    <tr>\n      <th>23</th>\n      <td>JAMBANGAN</td>\n      <td>4.19</td>\n      <td>Surabaya Selatan</td>\n      <td>-7.32108</td>\n      <td>112.71819</td>\n    </tr>\n    <tr>\n      <th>24</th>\n      <td>TANDES</td>\n      <td>11.07</td>\n      <td>Surabaya Barat</td>\n      <td>-7.25544</td>\n      <td>112.67350</td>\n    </tr>\n    <tr>\n      <th>25</th>\n      <td>SUKOMANUNGGAL</td>\n      <td>9.23</td>\n      <td>Surabaya Barat</td>\n      <td>-7.26426</td>\n      <td>112.69734</td>\n    </tr>\n    <tr>\n      <th>26</th>\n      <td>ASEMROWO</td>\n      <td>15.44</td>\n      <td>Surabaya Barat</td>\n      <td>-7.23469</td>\n      <td>112.68542</td>\n    </tr>\n    <tr>\n      <th>27</th>\n      <td>BENOWO</td>\n      <td>23.73</td>\n      <td>Surabaya Barat</td>\n      <td>-7.22649</td>\n      <td>112.64966</td>\n    </tr>\n    <tr>\n      <th>28</th>\n      <td>PAKAL</td>\n      <td>22.07</td>\n      <td>Surabaya Barat</td>\n      <td>-7.22835</td>\n      <td>112.61391</td>\n    </tr>\n    <tr>\n      <th>29</th>\n      <td>LAKARSANTRI</td>\n      <td>18.99</td>\n      <td>Surabaya Barat</td>\n      <td>-7.31651</td>\n      <td>112.66158</td>\n    </tr>\n    <tr>\n      <th>30</th>\n      <td>SAMBIKEREP</td>\n      <td>23.68</td>\n      <td>Surabaya Barat</td>\n      <td>-7.27684</td>\n      <td>112.64966</td>\n    </tr>\n  </tbody>\n</table>\n</div>",
      "text/plain": "        Neighborhood  Areas Region(km squared)           Borough  latitude  \\\n0          TEGALSARI                      4.29    Surabaya Pusat  -8.40185   \n1            GENTENG                      4.05    Surabaya Pusat  -8.36658   \n2            BUBUTAN                      3.86    Surabaya Pusat  -7.24996   \n3          SIMOKERTO                      2.59    Surabaya Pusat  -7.23865   \n4    PABEAN CANTIKAN                      6.80    Surabaya Utara  -7.21475   \n5           SEMAMPIR                      8.76    Surabaya Utara  -7.21146   \n6         KREMBANGAN                      8.34    Surabaya Utara  -7.23015   \n7           KENJERAN                      7.77    Surabaya Utara  -7.22027   \n8              BULAK                      6.72    Surabaya Utara  -7.23677   \n9         TAMBAKSARI                      8.99    Surabaya Timur  -7.25044   \n10            GUBENG                      7.99    Surabaya Timur  -7.27891   \n11           RUNGKUT                     21.08    Surabaya Timur  -7.31902   \n12  TENGGILIS MEJOYO                      5.52    Surabaya Timur  -7.32423   \n13      GUNUNG ANYAR                      9.71    Surabaya Timur  -7.33916   \n14          SUKOLILO                     23.68    Surabaya Timur  -7.28818   \n15         MULYOREJO                     14.21    Surabaya Timur  -7.26931   \n16           SAWAHAN                      6.93  Surabaya Selatan  -7.26301   \n17         WONOKROMO                      8.47  Surabaya Selatan  -7.30266   \n18      KARANGPILANG                      9.23  Surabaya Selatan  -7.33778   \n19       DUKUH PAKIS                      9.94  Surabaya Selatan  -7.29684   \n20            WIYUNG                     12.46  Surabaya Selatan  -7.31526   \n21          WONOCOLO                      6.77  Surabaya Selatan  -7.31982   \n22          GAYUNGAN                      6.07  Surabaya Selatan  -7.33084   \n23         JAMBANGAN                      4.19  Surabaya Selatan  -7.32108   \n24            TANDES                     11.07    Surabaya Barat  -7.25544   \n25     SUKOMANUNGGAL                      9.23    Surabaya Barat  -7.26426   \n26          ASEMROWO                     15.44    Surabaya Barat  -7.23469   \n27            BENOWO                     23.73    Surabaya Barat  -7.22649   \n28             PAKAL                     22.07    Surabaya Barat  -7.22835   \n29       LAKARSANTRI                     18.99    Surabaya Barat  -7.31651   \n30        SAMBIKEREP                     23.68    Surabaya Barat  -7.27684   \n\n    longitude  \n0   114.11810  \n1   114.14630  \n2   112.73011  \n3   112.75394  \n4   112.73011  \n5   112.74501  \n6   112.72415  \n7   112.76884  \n8   112.78970  \n9   112.76884  \n10  112.75394  \n11  112.80459  \n12  112.75394  \n13  112.80459  \n14  112.81651  \n15  112.79268  \n16  112.72117  \n17  112.73309  \n18  112.68840  \n19  112.70032  \n20  112.68542  \n21  112.74203  \n22  112.72415  \n23  112.71819  \n24  112.67350  \n25  112.69734  \n26  112.68542  \n27  112.64966  \n28  112.61391  \n29  112.66158  \n30  112.64966  "
     },
     "execution_count": 7,
     "metadata": {},
     "output_type": "execute_result"
    }
   ],
   "source": [
    "data_area"
   ]
  },
  {
   "cell_type": "markdown",
   "execution_count": null,
   "metadata": {},
   "outputs": [],
   "source": [
    "Since that the data_area is in UPPER, so we should changed our **data_penduduk**"
   ]
  },
  {
   "cell_type": "code",
   "execution_count": 9,
   "metadata": {},
   "outputs": [],
   "source": [
    "data_penduduk['District'] = data_penduduk['District'].str.upper()"
   ]
  },
  {
   "cell_type": "code",
   "execution_count": 10,
   "metadata": {},
   "outputs": [
    {
     "data": {
      "text/html": "<div>\n<style scoped>\n    .dataframe tbody tr th:only-of-type {\n        vertical-align: middle;\n    }\n\n    .dataframe tbody tr th {\n        vertical-align: top;\n    }\n\n    .dataframe thead th {\n        text-align: right;\n    }\n</style>\n<table border=\"1\" class=\"dataframe\">\n  <thead>\n    <tr style=\"text-align: right;\">\n      <th></th>\n      <th>District</th>\n      <th>Male</th>\n      <th>Female</th>\n      <th>Total</th>\n    </tr>\n  </thead>\n  <tbody>\n    <tr>\n      <th>0</th>\n      <td>TEGALSARI</td>\n      <td>50843</td>\n      <td>50873</td>\n      <td>101716</td>\n    </tr>\n    <tr>\n      <th>1</th>\n      <td>GENTENG</td>\n      <td>29387</td>\n      <td>29886</td>\n      <td>59273</td>\n    </tr>\n    <tr>\n      <th>2</th>\n      <td>BUBUTAN</td>\n      <td>50909</td>\n      <td>50903</td>\n      <td>101812</td>\n    </tr>\n    <tr>\n      <th>3</th>\n      <td>SIMOKERTO</td>\n      <td>48905</td>\n      <td>48808</td>\n      <td>97713</td>\n    </tr>\n    <tr>\n      <th>4</th>\n      <td>PABEAN CANTIKAN</td>\n      <td>41419</td>\n      <td>40964</td>\n      <td>82383</td>\n    </tr>\n    <tr>\n      <th>5</th>\n      <td>SEMAMPIR</td>\n      <td>92390</td>\n      <td>90141</td>\n      <td>182531</td>\n    </tr>\n    <tr>\n      <th>6</th>\n      <td>KREMBANGAN</td>\n      <td>58136</td>\n      <td>57502</td>\n      <td>115638</td>\n    </tr>\n    <tr>\n      <th>7</th>\n      <td>KENJERAN</td>\n      <td>74597</td>\n      <td>72160</td>\n      <td>146757</td>\n    </tr>\n    <tr>\n      <th>8</th>\n      <td>BULAK</td>\n      <td>20446</td>\n      <td>20196</td>\n      <td>40642</td>\n    </tr>\n    <tr>\n      <th>9</th>\n      <td>TAMBAKSARI</td>\n      <td>108625</td>\n      <td>108475</td>\n      <td>217100</td>\n    </tr>\n    <tr>\n      <th>10</th>\n      <td>GUBENG</td>\n      <td>67403</td>\n      <td>69218</td>\n      <td>136621</td>\n    </tr>\n    <tr>\n      <th>11</th>\n      <td>RUNGKUT</td>\n      <td>52120</td>\n      <td>51926</td>\n      <td>104046</td>\n    </tr>\n    <tr>\n      <th>12</th>\n      <td>TENGGILIS MEJOYO</td>\n      <td>27386</td>\n      <td>27475</td>\n      <td>54861</td>\n    </tr>\n    <tr>\n      <th>13</th>\n      <td>GUNUNG ANYAR</td>\n      <td>26188</td>\n      <td>25932</td>\n      <td>52120</td>\n    </tr>\n    <tr>\n      <th>14</th>\n      <td>SUKOLILO</td>\n      <td>52445</td>\n      <td>52448</td>\n      <td>104893</td>\n    </tr>\n    <tr>\n      <th>15</th>\n      <td>MULYOREJO</td>\n      <td>41178</td>\n      <td>41595</td>\n      <td>82773</td>\n    </tr>\n    <tr>\n      <th>16</th>\n      <td>SAWAHAN</td>\n      <td>100426</td>\n      <td>101295</td>\n      <td>201721</td>\n    </tr>\n    <tr>\n      <th>17</th>\n      <td>WONOKROMO</td>\n      <td>79629</td>\n      <td>80335</td>\n      <td>159964</td>\n    </tr>\n    <tr>\n      <th>18</th>\n      <td>KARANGPILANG</td>\n      <td>35382</td>\n      <td>34940</td>\n      <td>70322</td>\n    </tr>\n    <tr>\n      <th>19</th>\n      <td>DUKUH PAKIS</td>\n      <td>29245</td>\n      <td>29184</td>\n      <td>58429</td>\n    </tr>\n    <tr>\n      <th>20</th>\n      <td>WIYUNG</td>\n      <td>33220</td>\n      <td>32522</td>\n      <td>65742</td>\n    </tr>\n    <tr>\n      <th>21</th>\n      <td>WONOCOLO</td>\n      <td>39299</td>\n      <td>39038</td>\n      <td>78337</td>\n    </tr>\n    <tr>\n      <th>22</th>\n      <td>GAYUNGAN</td>\n      <td>22104</td>\n      <td>21988</td>\n      <td>44092</td>\n    </tr>\n    <tr>\n      <th>23</th>\n      <td>JAMBANGAN</td>\n      <td>23986</td>\n      <td>23562</td>\n      <td>47548</td>\n    </tr>\n    <tr>\n      <th>24</th>\n      <td>TANDES</td>\n      <td>44757</td>\n      <td>44712</td>\n      <td>89469</td>\n    </tr>\n    <tr>\n      <th>25</th>\n      <td>SUKOMANUNGGAL</td>\n      <td>49067</td>\n      <td>48842</td>\n      <td>97909</td>\n    </tr>\n    <tr>\n      <th>26</th>\n      <td>ASEMROWO</td>\n      <td>22068</td>\n      <td>20905</td>\n      <td>42973</td>\n    </tr>\n    <tr>\n      <th>27</th>\n      <td>BENOWO</td>\n      <td>28145</td>\n      <td>27609</td>\n      <td>55754</td>\n    </tr>\n    <tr>\n      <th>28</th>\n      <td>LAKARSANTRI</td>\n      <td>27042</td>\n      <td>26430</td>\n      <td>53472</td>\n    </tr>\n    <tr>\n      <th>29</th>\n      <td>PAKAL</td>\n      <td>24716</td>\n      <td>23768</td>\n      <td>48484</td>\n    </tr>\n    <tr>\n      <th>30</th>\n      <td>SAMBIKEREP</td>\n      <td>29522</td>\n      <td>29044</td>\n      <td>58566</td>\n    </tr>\n  </tbody>\n</table>\n</div>",
      "text/plain": "            District    Male  Female   Total\n0          TEGALSARI   50843   50873  101716\n1            GENTENG   29387   29886   59273\n2            BUBUTAN   50909   50903  101812\n3          SIMOKERTO   48905   48808   97713\n4    PABEAN CANTIKAN   41419   40964   82383\n5           SEMAMPIR   92390   90141  182531\n6         KREMBANGAN   58136   57502  115638\n7           KENJERAN   74597   72160  146757\n8              BULAK   20446   20196   40642\n9         TAMBAKSARI  108625  108475  217100\n10            GUBENG   67403   69218  136621\n11           RUNGKUT   52120   51926  104046\n12  TENGGILIS MEJOYO   27386   27475   54861\n13      GUNUNG ANYAR   26188   25932   52120\n14          SUKOLILO   52445   52448  104893\n15         MULYOREJO   41178   41595   82773\n16           SAWAHAN  100426  101295  201721\n17         WONOKROMO   79629   80335  159964\n18      KARANGPILANG   35382   34940   70322\n19       DUKUH PAKIS   29245   29184   58429\n20            WIYUNG   33220   32522   65742\n21          WONOCOLO   39299   39038   78337\n22          GAYUNGAN   22104   21988   44092\n23         JAMBANGAN   23986   23562   47548\n24            TANDES   44757   44712   89469\n25     SUKOMANUNGGAL   49067   48842   97909\n26          ASEMROWO   22068   20905   42973\n27            BENOWO   28145   27609   55754\n28       LAKARSANTRI   27042   26430   53472\n29             PAKAL   24716   23768   48484\n30        SAMBIKEREP   29522   29044   58566"
     },
     "execution_count": 10,
     "metadata": {},
     "output_type": "execute_result"
    }
   ],
   "source": [
    "data_penduduk"
   ]
  },
  {
   "cell_type": "markdown",
   "execution_count": 11,
   "metadata": {},
   "outputs": [
    {
     "ename": "SyntaxError",
     "evalue": "invalid syntax (<ipython-input-11-e8836e5a03c6>, line 1)",
     "output_type": "error",
     "traceback": [
      "\u001b[1;36m  File \u001b[1;32m\"<ipython-input-11-e8836e5a03c6>\"\u001b[1;36m, line \u001b[1;32m1\u001b[0m\n\u001b[1;33m    And right now we can merging all of our data using ``pd.merge()``\u001b[0m\n\u001b[1;37m            ^\u001b[0m\n\u001b[1;31mSyntaxError\u001b[0m\u001b[1;31m:\u001b[0m invalid syntax\n"
     ]
    }
   ],
   "source": [
    "And right now we can merging all of our data using ``pd.merge()``"
   ]
  },
  {
   "cell_type": "code",
   "execution_count": 16,
   "metadata": {},
   "outputs": [
    {
     "data": {
      "text/html": "<div>\n<style scoped>\n    .dataframe tbody tr th:only-of-type {\n        vertical-align: middle;\n    }\n\n    .dataframe tbody tr th {\n        vertical-align: top;\n    }\n\n    .dataframe thead th {\n        text-align: right;\n    }\n</style>\n<table border=\"1\" class=\"dataframe\">\n  <thead>\n    <tr style=\"text-align: right;\">\n      <th></th>\n      <th>Neighborhood</th>\n      <th>Areas Region(km squared)</th>\n      <th>Borough</th>\n      <th>latitude</th>\n      <th>longitude</th>\n      <th>District</th>\n      <th>Male</th>\n      <th>Female</th>\n      <th>Total</th>\n    </tr>\n  </thead>\n  <tbody>\n    <tr>\n      <th>0</th>\n      <td>TEGALSARI</td>\n      <td>4.29</td>\n      <td>Surabaya Pusat</td>\n      <td>-8.40185</td>\n      <td>114.11810</td>\n      <td>TEGALSARI</td>\n      <td>50843</td>\n      <td>50873</td>\n      <td>101716</td>\n    </tr>\n    <tr>\n      <th>1</th>\n      <td>GENTENG</td>\n      <td>4.05</td>\n      <td>Surabaya Pusat</td>\n      <td>-8.36658</td>\n      <td>114.14630</td>\n      <td>GENTENG</td>\n      <td>29387</td>\n      <td>29886</td>\n      <td>59273</td>\n    </tr>\n    <tr>\n      <th>2</th>\n      <td>BUBUTAN</td>\n      <td>3.86</td>\n      <td>Surabaya Pusat</td>\n      <td>-7.24996</td>\n      <td>112.73011</td>\n      <td>BUBUTAN</td>\n      <td>50909</td>\n      <td>50903</td>\n      <td>101812</td>\n    </tr>\n    <tr>\n      <th>3</th>\n      <td>SIMOKERTO</td>\n      <td>2.59</td>\n      <td>Surabaya Pusat</td>\n      <td>-7.23865</td>\n      <td>112.75394</td>\n      <td>SIMOKERTO</td>\n      <td>48905</td>\n      <td>48808</td>\n      <td>97713</td>\n    </tr>\n    <tr>\n      <th>4</th>\n      <td>PABEAN CANTIKAN</td>\n      <td>6.80</td>\n      <td>Surabaya Utara</td>\n      <td>-7.21475</td>\n      <td>112.73011</td>\n      <td>PABEAN CANTIKAN</td>\n      <td>41419</td>\n      <td>40964</td>\n      <td>82383</td>\n    </tr>\n    <tr>\n      <th>5</th>\n      <td>SEMAMPIR</td>\n      <td>8.76</td>\n      <td>Surabaya Utara</td>\n      <td>-7.21146</td>\n      <td>112.74501</td>\n      <td>SEMAMPIR</td>\n      <td>92390</td>\n      <td>90141</td>\n      <td>182531</td>\n    </tr>\n    <tr>\n      <th>6</th>\n      <td>KREMBANGAN</td>\n      <td>8.34</td>\n      <td>Surabaya Utara</td>\n      <td>-7.23015</td>\n      <td>112.72415</td>\n      <td>KREMBANGAN</td>\n      <td>58136</td>\n      <td>57502</td>\n      <td>115638</td>\n    </tr>\n    <tr>\n      <th>7</th>\n      <td>KENJERAN</td>\n      <td>7.77</td>\n      <td>Surabaya Utara</td>\n      <td>-7.22027</td>\n      <td>112.76884</td>\n      <td>KENJERAN</td>\n      <td>74597</td>\n      <td>72160</td>\n      <td>146757</td>\n    </tr>\n    <tr>\n      <th>8</th>\n      <td>BULAK</td>\n      <td>6.72</td>\n      <td>Surabaya Utara</td>\n      <td>-7.23677</td>\n      <td>112.78970</td>\n      <td>BULAK</td>\n      <td>20446</td>\n      <td>20196</td>\n      <td>40642</td>\n    </tr>\n    <tr>\n      <th>9</th>\n      <td>TAMBAKSARI</td>\n      <td>8.99</td>\n      <td>Surabaya Timur</td>\n      <td>-7.25044</td>\n      <td>112.76884</td>\n      <td>TAMBAKSARI</td>\n      <td>108625</td>\n      <td>108475</td>\n      <td>217100</td>\n    </tr>\n    <tr>\n      <th>10</th>\n      <td>GUBENG</td>\n      <td>7.99</td>\n      <td>Surabaya Timur</td>\n      <td>-7.27891</td>\n      <td>112.75394</td>\n      <td>GUBENG</td>\n      <td>67403</td>\n      <td>69218</td>\n      <td>136621</td>\n    </tr>\n    <tr>\n      <th>11</th>\n      <td>RUNGKUT</td>\n      <td>21.08</td>\n      <td>Surabaya Timur</td>\n      <td>-7.31902</td>\n      <td>112.80459</td>\n      <td>RUNGKUT</td>\n      <td>52120</td>\n      <td>51926</td>\n      <td>104046</td>\n    </tr>\n    <tr>\n      <th>12</th>\n      <td>TENGGILIS MEJOYO</td>\n      <td>5.52</td>\n      <td>Surabaya Timur</td>\n      <td>-7.32423</td>\n      <td>112.75394</td>\n      <td>TENGGILIS MEJOYO</td>\n      <td>27386</td>\n      <td>27475</td>\n      <td>54861</td>\n    </tr>\n    <tr>\n      <th>13</th>\n      <td>GUNUNG ANYAR</td>\n      <td>9.71</td>\n      <td>Surabaya Timur</td>\n      <td>-7.33916</td>\n      <td>112.80459</td>\n      <td>GUNUNG ANYAR</td>\n      <td>26188</td>\n      <td>25932</td>\n      <td>52120</td>\n    </tr>\n    <tr>\n      <th>14</th>\n      <td>SUKOLILO</td>\n      <td>23.68</td>\n      <td>Surabaya Timur</td>\n      <td>-7.28818</td>\n      <td>112.81651</td>\n      <td>SUKOLILO</td>\n      <td>52445</td>\n      <td>52448</td>\n      <td>104893</td>\n    </tr>\n    <tr>\n      <th>15</th>\n      <td>MULYOREJO</td>\n      <td>14.21</td>\n      <td>Surabaya Timur</td>\n      <td>-7.26931</td>\n      <td>112.79268</td>\n      <td>MULYOREJO</td>\n      <td>41178</td>\n      <td>41595</td>\n      <td>82773</td>\n    </tr>\n    <tr>\n      <th>16</th>\n      <td>SAWAHAN</td>\n      <td>6.93</td>\n      <td>Surabaya Selatan</td>\n      <td>-7.26301</td>\n      <td>112.72117</td>\n      <td>SAWAHAN</td>\n      <td>100426</td>\n      <td>101295</td>\n      <td>201721</td>\n    </tr>\n    <tr>\n      <th>17</th>\n      <td>WONOKROMO</td>\n      <td>8.47</td>\n      <td>Surabaya Selatan</td>\n      <td>-7.30266</td>\n      <td>112.73309</td>\n      <td>WONOKROMO</td>\n      <td>79629</td>\n      <td>80335</td>\n      <td>159964</td>\n    </tr>\n    <tr>\n      <th>18</th>\n      <td>KARANGPILANG</td>\n      <td>9.23</td>\n      <td>Surabaya Selatan</td>\n      <td>-7.33778</td>\n      <td>112.68840</td>\n      <td>KARANGPILANG</td>\n      <td>35382</td>\n      <td>34940</td>\n      <td>70322</td>\n    </tr>\n    <tr>\n      <th>19</th>\n      <td>DUKUH PAKIS</td>\n      <td>9.94</td>\n      <td>Surabaya Selatan</td>\n      <td>-7.29684</td>\n      <td>112.70032</td>\n      <td>DUKUH PAKIS</td>\n      <td>29245</td>\n      <td>29184</td>\n      <td>58429</td>\n    </tr>\n    <tr>\n      <th>20</th>\n      <td>WIYUNG</td>\n      <td>12.46</td>\n      <td>Surabaya Selatan</td>\n      <td>-7.31526</td>\n      <td>112.68542</td>\n      <td>WIYUNG</td>\n      <td>33220</td>\n      <td>32522</td>\n      <td>65742</td>\n    </tr>\n    <tr>\n      <th>21</th>\n      <td>WONOCOLO</td>\n      <td>6.77</td>\n      <td>Surabaya Selatan</td>\n      <td>-7.31982</td>\n      <td>112.74203</td>\n      <td>WONOCOLO</td>\n      <td>39299</td>\n      <td>39038</td>\n      <td>78337</td>\n    </tr>\n    <tr>\n      <th>22</th>\n      <td>GAYUNGAN</td>\n      <td>6.07</td>\n      <td>Surabaya Selatan</td>\n      <td>-7.33084</td>\n      <td>112.72415</td>\n      <td>GAYUNGAN</td>\n      <td>22104</td>\n      <td>21988</td>\n      <td>44092</td>\n    </tr>\n    <tr>\n      <th>23</th>\n      <td>JAMBANGAN</td>\n      <td>4.19</td>\n      <td>Surabaya Selatan</td>\n      <td>-7.32108</td>\n      <td>112.71819</td>\n      <td>JAMBANGAN</td>\n      <td>23986</td>\n      <td>23562</td>\n      <td>47548</td>\n    </tr>\n    <tr>\n      <th>24</th>\n      <td>TANDES</td>\n      <td>11.07</td>\n      <td>Surabaya Barat</td>\n      <td>-7.25544</td>\n      <td>112.67350</td>\n      <td>TANDES</td>\n      <td>44757</td>\n      <td>44712</td>\n      <td>89469</td>\n    </tr>\n    <tr>\n      <th>25</th>\n      <td>SUKOMANUNGGAL</td>\n      <td>9.23</td>\n      <td>Surabaya Barat</td>\n      <td>-7.26426</td>\n      <td>112.69734</td>\n      <td>SUKOMANUNGGAL</td>\n      <td>49067</td>\n      <td>48842</td>\n      <td>97909</td>\n    </tr>\n    <tr>\n      <th>26</th>\n      <td>ASEMROWO</td>\n      <td>15.44</td>\n      <td>Surabaya Barat</td>\n      <td>-7.23469</td>\n      <td>112.68542</td>\n      <td>ASEMROWO</td>\n      <td>22068</td>\n      <td>20905</td>\n      <td>42973</td>\n    </tr>\n    <tr>\n      <th>27</th>\n      <td>BENOWO</td>\n      <td>23.73</td>\n      <td>Surabaya Barat</td>\n      <td>-7.22649</td>\n      <td>112.64966</td>\n      <td>BENOWO</td>\n      <td>28145</td>\n      <td>27609</td>\n      <td>55754</td>\n    </tr>\n    <tr>\n      <th>28</th>\n      <td>PAKAL</td>\n      <td>22.07</td>\n      <td>Surabaya Barat</td>\n      <td>-7.22835</td>\n      <td>112.61391</td>\n      <td>PAKAL</td>\n      <td>24716</td>\n      <td>23768</td>\n      <td>48484</td>\n    </tr>\n    <tr>\n      <th>29</th>\n      <td>LAKARSANTRI</td>\n      <td>18.99</td>\n      <td>Surabaya Barat</td>\n      <td>-7.31651</td>\n      <td>112.66158</td>\n      <td>LAKARSANTRI</td>\n      <td>27042</td>\n      <td>26430</td>\n      <td>53472</td>\n    </tr>\n    <tr>\n      <th>30</th>\n      <td>SAMBIKEREP</td>\n      <td>23.68</td>\n      <td>Surabaya Barat</td>\n      <td>-7.27684</td>\n      <td>112.64966</td>\n      <td>SAMBIKEREP</td>\n      <td>29522</td>\n      <td>29044</td>\n      <td>58566</td>\n    </tr>\n  </tbody>\n</table>\n</div>",
      "text/plain": "        Neighborhood  Areas Region(km squared)           Borough  latitude  \\\n0          TEGALSARI                      4.29    Surabaya Pusat  -8.40185   \n1            GENTENG                      4.05    Surabaya Pusat  -8.36658   \n2            BUBUTAN                      3.86    Surabaya Pusat  -7.24996   \n3          SIMOKERTO                      2.59    Surabaya Pusat  -7.23865   \n4    PABEAN CANTIKAN                      6.80    Surabaya Utara  -7.21475   \n5           SEMAMPIR                      8.76    Surabaya Utara  -7.21146   \n6         KREMBANGAN                      8.34    Surabaya Utara  -7.23015   \n7           KENJERAN                      7.77    Surabaya Utara  -7.22027   \n8              BULAK                      6.72    Surabaya Utara  -7.23677   \n9         TAMBAKSARI                      8.99    Surabaya Timur  -7.25044   \n10            GUBENG                      7.99    Surabaya Timur  -7.27891   \n11           RUNGKUT                     21.08    Surabaya Timur  -7.31902   \n12  TENGGILIS MEJOYO                      5.52    Surabaya Timur  -7.32423   \n13      GUNUNG ANYAR                      9.71    Surabaya Timur  -7.33916   \n14          SUKOLILO                     23.68    Surabaya Timur  -7.28818   \n15         MULYOREJO                     14.21    Surabaya Timur  -7.26931   \n16           SAWAHAN                      6.93  Surabaya Selatan  -7.26301   \n17         WONOKROMO                      8.47  Surabaya Selatan  -7.30266   \n18      KARANGPILANG                      9.23  Surabaya Selatan  -7.33778   \n19       DUKUH PAKIS                      9.94  Surabaya Selatan  -7.29684   \n20            WIYUNG                     12.46  Surabaya Selatan  -7.31526   \n21          WONOCOLO                      6.77  Surabaya Selatan  -7.31982   \n22          GAYUNGAN                      6.07  Surabaya Selatan  -7.33084   \n23         JAMBANGAN                      4.19  Surabaya Selatan  -7.32108   \n24            TANDES                     11.07    Surabaya Barat  -7.25544   \n25     SUKOMANUNGGAL                      9.23    Surabaya Barat  -7.26426   \n26          ASEMROWO                     15.44    Surabaya Barat  -7.23469   \n27            BENOWO                     23.73    Surabaya Barat  -7.22649   \n28             PAKAL                     22.07    Surabaya Barat  -7.22835   \n29       LAKARSANTRI                     18.99    Surabaya Barat  -7.31651   \n30        SAMBIKEREP                     23.68    Surabaya Barat  -7.27684   \n\n    longitude          District    Male  Female   Total  \n0   114.11810         TEGALSARI   50843   50873  101716  \n1   114.14630           GENTENG   29387   29886   59273  \n2   112.73011           BUBUTAN   50909   50903  101812  \n3   112.75394         SIMOKERTO   48905   48808   97713  \n4   112.73011   PABEAN CANTIKAN   41419   40964   82383  \n5   112.74501          SEMAMPIR   92390   90141  182531  \n6   112.72415        KREMBANGAN   58136   57502  115638  \n7   112.76884          KENJERAN   74597   72160  146757  \n8   112.78970             BULAK   20446   20196   40642  \n9   112.76884        TAMBAKSARI  108625  108475  217100  \n10  112.75394            GUBENG   67403   69218  136621  \n11  112.80459           RUNGKUT   52120   51926  104046  \n12  112.75394  TENGGILIS MEJOYO   27386   27475   54861  \n13  112.80459      GUNUNG ANYAR   26188   25932   52120  \n14  112.81651          SUKOLILO   52445   52448  104893  \n15  112.79268         MULYOREJO   41178   41595   82773  \n16  112.72117           SAWAHAN  100426  101295  201721  \n17  112.73309         WONOKROMO   79629   80335  159964  \n18  112.68840      KARANGPILANG   35382   34940   70322  \n19  112.70032       DUKUH PAKIS   29245   29184   58429  \n20  112.68542            WIYUNG   33220   32522   65742  \n21  112.74203          WONOCOLO   39299   39038   78337  \n22  112.72415          GAYUNGAN   22104   21988   44092  \n23  112.71819         JAMBANGAN   23986   23562   47548  \n24  112.67350            TANDES   44757   44712   89469  \n25  112.69734     SUKOMANUNGGAL   49067   48842   97909  \n26  112.68542          ASEMROWO   22068   20905   42973  \n27  112.64966            BENOWO   28145   27609   55754  \n28  112.61391             PAKAL   24716   23768   48484  \n29  112.66158       LAKARSANTRI   27042   26430   53472  \n30  112.64966        SAMBIKEREP   29522   29044   58566  "
     },
     "execution_count": 16,
     "metadata": {},
     "output_type": "execute_result"
    }
   ],
   "source": [
    "data_total = data_area.merge(data_penduduk,\n",
    "              how='inner',\n",
    "              left_on='Neighborhood',\n",
    "              right_on='District')\n",
    "data_total"
   ]
  },
  {
   "cell_type": "code",
   "execution_count": 17,
   "metadata": {},
   "outputs": [
    {
     "data": {
      "text/html": "<div>\n<style scoped>\n    .dataframe tbody tr th:only-of-type {\n        vertical-align: middle;\n    }\n\n    .dataframe tbody tr th {\n        vertical-align: top;\n    }\n\n    .dataframe thead th {\n        text-align: right;\n    }\n</style>\n<table border=\"1\" class=\"dataframe\">\n  <thead>\n    <tr style=\"text-align: right;\">\n      <th></th>\n      <th>Areas Region(km squared)</th>\n      <th>Borough</th>\n      <th>latitude</th>\n      <th>longitude</th>\n      <th>District</th>\n      <th>Male</th>\n      <th>Female</th>\n      <th>Total</th>\n    </tr>\n  </thead>\n  <tbody>\n    <tr>\n      <th>0</th>\n      <td>4.29</td>\n      <td>Surabaya Pusat</td>\n      <td>-8.40185</td>\n      <td>114.11810</td>\n      <td>TEGALSARI</td>\n      <td>50843</td>\n      <td>50873</td>\n      <td>101716</td>\n    </tr>\n    <tr>\n      <th>1</th>\n      <td>4.05</td>\n      <td>Surabaya Pusat</td>\n      <td>-8.36658</td>\n      <td>114.14630</td>\n      <td>GENTENG</td>\n      <td>29387</td>\n      <td>29886</td>\n      <td>59273</td>\n    </tr>\n    <tr>\n      <th>2</th>\n      <td>3.86</td>\n      <td>Surabaya Pusat</td>\n      <td>-7.24996</td>\n      <td>112.73011</td>\n      <td>BUBUTAN</td>\n      <td>50909</td>\n      <td>50903</td>\n      <td>101812</td>\n    </tr>\n    <tr>\n      <th>3</th>\n      <td>2.59</td>\n      <td>Surabaya Pusat</td>\n      <td>-7.23865</td>\n      <td>112.75394</td>\n      <td>SIMOKERTO</td>\n      <td>48905</td>\n      <td>48808</td>\n      <td>97713</td>\n    </tr>\n    <tr>\n      <th>4</th>\n      <td>6.80</td>\n      <td>Surabaya Utara</td>\n      <td>-7.21475</td>\n      <td>112.73011</td>\n      <td>PABEAN CANTIKAN</td>\n      <td>41419</td>\n      <td>40964</td>\n      <td>82383</td>\n    </tr>\n  </tbody>\n</table>\n</div>",
      "text/plain": "   Areas Region(km squared)         Borough  latitude  longitude  \\\n0                      4.29  Surabaya Pusat  -8.40185  114.11810   \n1                      4.05  Surabaya Pusat  -8.36658  114.14630   \n2                      3.86  Surabaya Pusat  -7.24996  112.73011   \n3                      2.59  Surabaya Pusat  -7.23865  112.75394   \n4                      6.80  Surabaya Utara  -7.21475  112.73011   \n\n          District   Male  Female   Total  \n0        TEGALSARI  50843   50873  101716  \n1          GENTENG  29387   29886   59273  \n2          BUBUTAN  50909   50903  101812  \n3        SIMOKERTO  48905   48808   97713  \n4  PABEAN CANTIKAN  41419   40964   82383  "
     },
     "execution_count": 17,
     "metadata": {},
     "output_type": "execute_result"
    }
   ],
   "source": [
    "data_total = data_total.drop(\"Neighborhood\", axis=1)\n",
    "data_total.head()"
   ]
  },
  {
   "cell_type": "code",
   "execution_count": 18,
   "metadata": {},
   "outputs": [
    {
     "data": {
      "text/plain": "Index(['Areas Region(km squared)', 'Borough', 'latitude', 'longitude',\n       'District', 'Male', 'Female', 'Total'],\n      dtype='object')"
     },
     "execution_count": 18,
     "metadata": {},
     "output_type": "execute_result"
    }
   ],
   "source": [
    "data_total.columns"
   ]
  },
  {
   "cell_type": "code",
   "execution_count": 19,
   "metadata": {},
   "outputs": [],
   "source": [
    "column_change = ['District','Areas Region(km squared)', 'Borough', 'latitude', 'longitude','Male', 'Female', 'Total']\n",
    "data_total = data_total.reindex(columns=column_change)"
   ]
  },
  {
   "cell_type": "code",
   "execution_count": 20,
   "metadata": {},
   "outputs": [
    {
     "data": {
      "text/html": "<div>\n<style scoped>\n    .dataframe tbody tr th:only-of-type {\n        vertical-align: middle;\n    }\n\n    .dataframe tbody tr th {\n        vertical-align: top;\n    }\n\n    .dataframe thead th {\n        text-align: right;\n    }\n</style>\n<table border=\"1\" class=\"dataframe\">\n  <thead>\n    <tr style=\"text-align: right;\">\n      <th></th>\n      <th>District</th>\n      <th>Areas Region(km squared)</th>\n      <th>Borough</th>\n      <th>latitude</th>\n      <th>longitude</th>\n      <th>Male</th>\n      <th>Female</th>\n      <th>Total</th>\n    </tr>\n  </thead>\n  <tbody>\n    <tr>\n      <th>0</th>\n      <td>TEGALSARI</td>\n      <td>4.29</td>\n      <td>Surabaya Pusat</td>\n      <td>-8.40185</td>\n      <td>114.11810</td>\n      <td>50843</td>\n      <td>50873</td>\n      <td>101716</td>\n    </tr>\n    <tr>\n      <th>1</th>\n      <td>GENTENG</td>\n      <td>4.05</td>\n      <td>Surabaya Pusat</td>\n      <td>-8.36658</td>\n      <td>114.14630</td>\n      <td>29387</td>\n      <td>29886</td>\n      <td>59273</td>\n    </tr>\n    <tr>\n      <th>2</th>\n      <td>BUBUTAN</td>\n      <td>3.86</td>\n      <td>Surabaya Pusat</td>\n      <td>-7.24996</td>\n      <td>112.73011</td>\n      <td>50909</td>\n      <td>50903</td>\n      <td>101812</td>\n    </tr>\n    <tr>\n      <th>3</th>\n      <td>SIMOKERTO</td>\n      <td>2.59</td>\n      <td>Surabaya Pusat</td>\n      <td>-7.23865</td>\n      <td>112.75394</td>\n      <td>48905</td>\n      <td>48808</td>\n      <td>97713</td>\n    </tr>\n    <tr>\n      <th>4</th>\n      <td>PABEAN CANTIKAN</td>\n      <td>6.80</td>\n      <td>Surabaya Utara</td>\n      <td>-7.21475</td>\n      <td>112.73011</td>\n      <td>41419</td>\n      <td>40964</td>\n      <td>82383</td>\n    </tr>\n  </tbody>\n</table>\n</div>",
      "text/plain": "          District  Areas Region(km squared)         Borough  latitude  \\\n0        TEGALSARI                      4.29  Surabaya Pusat  -8.40185   \n1          GENTENG                      4.05  Surabaya Pusat  -8.36658   \n2          BUBUTAN                      3.86  Surabaya Pusat  -7.24996   \n3        SIMOKERTO                      2.59  Surabaya Pusat  -7.23865   \n4  PABEAN CANTIKAN                      6.80  Surabaya Utara  -7.21475   \n\n   longitude   Male  Female   Total  \n0  114.11810  50843   50873  101716  \n1  114.14630  29387   29886   59273  \n2  112.73011  50909   50903  101812  \n3  112.75394  48905   48808   97713  \n4  112.73011  41419   40964   82383  "
     },
     "execution_count": 20,
     "metadata": {},
     "output_type": "execute_result"
    }
   ],
   "source": [
    "data_total.head()"
   ]
  },
  {
   "cell_type": "code",
   "execution_count": 21,
   "metadata": {},
   "outputs": [],
   "source": [
    "data_total.columns = ['District','Areas Region(km squared)', 'Borough', 'Latitude', 'Longitude','Male Population', 'Female Population', 'Total Population']"
   ]
  },
  {
   "cell_type": "code",
   "execution_count": 22,
   "metadata": {},
   "outputs": [
    {
     "data": {
      "text/html": "<div>\n<style scoped>\n    .dataframe tbody tr th:only-of-type {\n        vertical-align: middle;\n    }\n\n    .dataframe tbody tr th {\n        vertical-align: top;\n    }\n\n    .dataframe thead th {\n        text-align: right;\n    }\n</style>\n<table border=\"1\" class=\"dataframe\">\n  <thead>\n    <tr style=\"text-align: right;\">\n      <th></th>\n      <th>District</th>\n      <th>Areas Region(km squared)</th>\n      <th>Borough</th>\n      <th>Latitude</th>\n      <th>Longitude</th>\n      <th>Male Population</th>\n      <th>Female Population</th>\n      <th>Total Population</th>\n    </tr>\n  </thead>\n  <tbody>\n    <tr>\n      <th>0</th>\n      <td>TEGALSARI</td>\n      <td>4.29</td>\n      <td>Surabaya Pusat</td>\n      <td>-8.40185</td>\n      <td>114.11810</td>\n      <td>50843</td>\n      <td>50873</td>\n      <td>101716</td>\n    </tr>\n    <tr>\n      <th>1</th>\n      <td>GENTENG</td>\n      <td>4.05</td>\n      <td>Surabaya Pusat</td>\n      <td>-8.36658</td>\n      <td>114.14630</td>\n      <td>29387</td>\n      <td>29886</td>\n      <td>59273</td>\n    </tr>\n    <tr>\n      <th>2</th>\n      <td>BUBUTAN</td>\n      <td>3.86</td>\n      <td>Surabaya Pusat</td>\n      <td>-7.24996</td>\n      <td>112.73011</td>\n      <td>50909</td>\n      <td>50903</td>\n      <td>101812</td>\n    </tr>\n    <tr>\n      <th>3</th>\n      <td>SIMOKERTO</td>\n      <td>2.59</td>\n      <td>Surabaya Pusat</td>\n      <td>-7.23865</td>\n      <td>112.75394</td>\n      <td>48905</td>\n      <td>48808</td>\n      <td>97713</td>\n    </tr>\n    <tr>\n      <th>4</th>\n      <td>PABEAN CANTIKAN</td>\n      <td>6.80</td>\n      <td>Surabaya Utara</td>\n      <td>-7.21475</td>\n      <td>112.73011</td>\n      <td>41419</td>\n      <td>40964</td>\n      <td>82383</td>\n    </tr>\n  </tbody>\n</table>\n</div>",
      "text/plain": "          District  Areas Region(km squared)         Borough  Latitude  \\\n0        TEGALSARI                      4.29  Surabaya Pusat  -8.40185   \n1          GENTENG                      4.05  Surabaya Pusat  -8.36658   \n2          BUBUTAN                      3.86  Surabaya Pusat  -7.24996   \n3        SIMOKERTO                      2.59  Surabaya Pusat  -7.23865   \n4  PABEAN CANTIKAN                      6.80  Surabaya Utara  -7.21475   \n\n   Longitude  Male Population  Female Population  Total Population  \n0  114.11810            50843              50873            101716  \n1  114.14630            29387              29886             59273  \n2  112.73011            50909              50903            101812  \n3  112.75394            48905              48808             97713  \n4  112.73011            41419              40964             82383  "
     },
     "execution_count": 22,
     "metadata": {},
     "output_type": "execute_result"
    }
   ],
   "source": [
    "data_total.head()"
   ]
  },
  {
   "cell_type": "markdown",
   "execution_count": null,
   "metadata": {},
   "outputs": [],
   "source": [
    "There are some strange value at Tegalsari and Genteng and "
   ]
  },
  {
   "cell_type": "code",
   "execution_count": 23,
   "metadata": {},
   "outputs": [
    {
     "name": "stderr",
     "output_type": "stream",
     "text": "C:\\Users\\User\\Anaconda3\\lib\\site-packages\\ipykernel_launcher.py:2: SettingWithCopyWarning: \nA value is trying to be set on a copy of a slice from a DataFrame\n\nSee the caveats in the documentation: http://pandas.pydata.org/pandas-docs/stable/indexing.html#indexing-view-versus-copy\n  \nC:\\Users\\User\\Anaconda3\\lib\\site-packages\\ipykernel_launcher.py:3: SettingWithCopyWarning: \nA value is trying to be set on a copy of a slice from a DataFrame\n\nSee the caveats in the documentation: http://pandas.pydata.org/pandas-docs/stable/indexing.html#indexing-view-versus-copy\n  This is separate from the ipykernel package so we can avoid doing imports until\nC:\\Users\\User\\Anaconda3\\lib\\site-packages\\ipykernel_launcher.py:5: SettingWithCopyWarning: \nA value is trying to be set on a copy of a slice from a DataFrame\n\nSee the caveats in the documentation: http://pandas.pydata.org/pandas-docs/stable/indexing.html#indexing-view-versus-copy\n  \"\"\"\nC:\\Users\\User\\Anaconda3\\lib\\site-packages\\ipykernel_launcher.py:6: SettingWithCopyWarning: \nA value is trying to be set on a copy of a slice from a DataFrame\n\nSee the caveats in the documentation: http://pandas.pydata.org/pandas-docs/stable/indexing.html#indexing-view-versus-copy\n  \n"
    }
   ],
   "source": [
    "#change Tegalsari coordinate\n",
    "data_total['Latitude'][0] = -7.2798481\n",
    "data_total['Longitude'][0] = 112.7360686\n",
    "#change Genteng coordinate\n",
    "data_total['Latitude'][1] = -7.2590879\n",
    "data_total['Longitude'][1] = 112.7479862"
   ]
  },
  {
   "cell_type": "code",
   "execution_count": 25,
   "metadata": {},
   "outputs": [
    {
     "data": {
      "text/html": "<div>\n<style scoped>\n    .dataframe tbody tr th:only-of-type {\n        vertical-align: middle;\n    }\n\n    .dataframe tbody tr th {\n        vertical-align: top;\n    }\n\n    .dataframe thead th {\n        text-align: right;\n    }\n</style>\n<table border=\"1\" class=\"dataframe\">\n  <thead>\n    <tr style=\"text-align: right;\">\n      <th></th>\n      <th>District</th>\n      <th>Areas Region(km squared)</th>\n      <th>Borough</th>\n      <th>Latitude</th>\n      <th>Longitude</th>\n      <th>Male Population</th>\n      <th>Female Population</th>\n      <th>Total Population</th>\n    </tr>\n  </thead>\n  <tbody>\n    <tr>\n      <th>0</th>\n      <td>TEGALSARI</td>\n      <td>4.29</td>\n      <td>Surabaya Pusat</td>\n      <td>-7.279848</td>\n      <td>112.736069</td>\n      <td>50843</td>\n      <td>50873</td>\n      <td>101716</td>\n    </tr>\n    <tr>\n      <th>1</th>\n      <td>GENTENG</td>\n      <td>4.05</td>\n      <td>Surabaya Pusat</td>\n      <td>-7.259088</td>\n      <td>112.747986</td>\n      <td>29387</td>\n      <td>29886</td>\n      <td>59273</td>\n    </tr>\n    <tr>\n      <th>2</th>\n      <td>BUBUTAN</td>\n      <td>3.86</td>\n      <td>Surabaya Pusat</td>\n      <td>-7.249960</td>\n      <td>112.730110</td>\n      <td>50909</td>\n      <td>50903</td>\n      <td>101812</td>\n    </tr>\n    <tr>\n      <th>3</th>\n      <td>SIMOKERTO</td>\n      <td>2.59</td>\n      <td>Surabaya Pusat</td>\n      <td>-7.238650</td>\n      <td>112.753940</td>\n      <td>48905</td>\n      <td>48808</td>\n      <td>97713</td>\n    </tr>\n    <tr>\n      <th>4</th>\n      <td>PABEAN CANTIKAN</td>\n      <td>6.80</td>\n      <td>Surabaya Utara</td>\n      <td>-7.214750</td>\n      <td>112.730110</td>\n      <td>41419</td>\n      <td>40964</td>\n      <td>82383</td>\n    </tr>\n  </tbody>\n</table>\n</div>",
      "text/plain": "          District  Areas Region(km squared)         Borough  Latitude  \\\n0        TEGALSARI                      4.29  Surabaya Pusat -7.279848   \n1          GENTENG                      4.05  Surabaya Pusat -7.259088   \n2          BUBUTAN                      3.86  Surabaya Pusat -7.249960   \n3        SIMOKERTO                      2.59  Surabaya Pusat -7.238650   \n4  PABEAN CANTIKAN                      6.80  Surabaya Utara -7.214750   \n\n    Longitude  Male Population  Female Population  Total Population  \n0  112.736069            50843              50873            101716  \n1  112.747986            29387              29886             59273  \n2  112.730110            50909              50903            101812  \n3  112.753940            48905              48808             97713  \n4  112.730110            41419              40964             82383  "
     },
     "execution_count": 25,
     "metadata": {},
     "output_type": "execute_result"
    }
   ],
   "source": [
    "data_total.head()"
   ]
  },
  {
   "cell_type": "markdown",
   "execution_count": 26,
   "metadata": {},
   "outputs": [
    {
     "ename": "SyntaxError",
     "evalue": "invalid syntax (<ipython-input-26-20e424687e48>, line 1)",
     "output_type": "error",
     "traceback": [
      "\u001b[1;36m  File \u001b[1;32m\"<ipython-input-26-20e424687e48>\"\u001b[1;36m, line \u001b[1;32m1\u001b[0m\n\u001b[1;33m    And then just save it into a csv.\u001b[0m\n\u001b[1;37m           ^\u001b[0m\n\u001b[1;31mSyntaxError\u001b[0m\u001b[1;31m:\u001b[0m invalid syntax\n"
     ]
    }
   ],
   "source": [
    "And then just save it into a csv."
   ]
  },
  {
   "cell_type": "code",
   "execution_count": 24,
   "metadata": {
    "ExecuteTime": {
     "end_time": "2019-09-23T09:46:55.633989Z",
     "start_time": "2019-09-23T09:46:55.590518Z"
    }
   },
   "outputs": [],
   "source": [
    "data_total.to_csv(\"Surabaya_Full_of_Data.csv\", index=False)"
   ]
  },
  {
   "cell_type": "code",
   "execution_count": null,
   "metadata": {},
   "outputs": [],
   "source": []
  }
 ],
 "metadata": {
  "kernelspec": {
   "display_name": "Python 3",
   "language": "python",
   "name": "python3"
  },
  "language_info": {
   "codemirror_mode": {
    "name": "ipython",
    "version": 3
   },
   "file_extension": ".py",
   "mimetype": "text/x-python",
   "name": "python",
   "nbconvert_exporter": "python",
   "pygments_lexer": "ipython3",
   "version": "3.7.3"
  },
  "toc": {
   "base_numbering": 1,
   "nav_menu": {},
   "number_sections": true,
   "sideBar": true,
   "skip_h1_title": false,
   "title_cell": "Table of Contents",
   "title_sidebar": "Contents",
   "toc_cell": false,
   "toc_position": {},
   "toc_section_display": true,
   "toc_window_display": false
  },
  "varInspector": {
   "cols": {
    "lenName": 16,
    "lenType": 16,
    "lenVar": 40
   },
   "kernels_config": {
    "python": {
     "delete_cmd_postfix": "",
     "delete_cmd_prefix": "del ",
     "library": "var_list.py",
     "varRefreshCmd": "print(var_dic_list())"
    },
    "r": {
     "delete_cmd_postfix": ") ",
     "delete_cmd_prefix": "rm(",
     "library": "var_list.r",
     "varRefreshCmd": "cat(var_dic_list()) "
    }
   },
   "types_to_exclude": [
    "module",
    "function",
    "builtin_function_or_method",
    "instance",
    "_Feature"
   ],
   "window_display": false
  }
 },
 "nbformat": 4,
 "nbformat_minor": 2
}