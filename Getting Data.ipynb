{
 "cells": [
  {
   "cell_type": "markdown",
   "execution_count": null,
   "metadata": {},
   "outputs": [],
   "source": [
    "Welcome to the first part of many about how I can getting this visualization. First of all, I should find the data and luckily I can found it on BPS Surabaya website, but I should scraping it since that I can't downloaded the file. So, here we go."
   ]
  },
  {
   "cell_type": "code",
   "execution_count": 1,
   "metadata": {},
   "outputs": [],
   "source": [
    "import requests"
   ]
  },
  {
   "cell_type": "markdown",
   "execution_count": null,
   "metadata": {},
   "outputs": [],
   "source": [
    "Then, we are want to get request from BPS website, currently the updated in 2014, so I should use it."
   ]
  },
  {
   "cell_type": "code",
   "execution_count": 2,
   "metadata": {},
   "outputs": [],
   "source": [
    "website_url = requests.get('https://surabayakota.bps.go.id/statictable/2015/01/09/322/banyaknya-penduduk-menurut-jenis-kelamin-per-kecamatan-hasil-registrasi-2014.html').text"
   ]
  },
  {
   "cell_type": "markdown",
   "execution_count": null,
   "metadata": {},
   "outputs": [],
   "source": [
    "And then, we are using Beautiful Soup for scraping the website page, and get things done."
   ]
  },
  {
   "cell_type": "code",
   "execution_count": 3,
   "metadata": {},
   "outputs": [
    {
     "name": "stdout",
     "output_type": "stream",
     "text": "     <a href=\"https://surabayakota.bps.go.id/menu/1/tentang-bps.html\">\n             Tentang BPS\n            </a>\n           </li>\n           <li class=\"sb-close\" style=\"padding-left:15px;\">\n            <a href=\"https://surabayakota.bps.go.id/menu/38/program-dan-kegiatan.html\">\n             Program dan Kegiatan\n            </a>\n           </li>\n           <li class=\"sb-close\" style=\"padding-left:15px;\">\n            <a href=\"https://surabayakota.bps.go.id/menu/32/profil-singkat-pejabat.html\">\n             Profil Singkat Pejabat\n            </a>\n           </li>\n           <li class=\"sb-close\" style=\"padding-left:15px;\">\n            <a href=\"https://surabayakota.bps.go.id/menu/28/penghargaan.html\">\n             Penghargaan\n            </a>\n           </li>\n           <li class=\"sb-close\" style=\"padding-left:15px;\">\n            <a href=\"https://surabayakota.bps.go.id/menu/34/review-ke-3-perjanjian-kinerja-bps-kota-surabaya-ta-2016.html\">\n             Review Ke-3 Perjanjian Kinerja BPS Kota Surabaya TA 2016\n            </a>\n           </li>\n           <li class=\"sb-close\" style=\"padding-left:15px;\">\n            <a href=\"https://surabayakota.bps.go.id/menu/39/laporan-kinerja-.html\">\n             Laporan Kinerja\n            </a>\n           </li>\n           <li class=\"sb-close\" style=\"padding-left:15px;\">\n            <a href=\"https://surabayakota.bps.go.id/menu/36/laporan-kinerja-bps-kota-surabaya-tahun-2016.html\">\n             Laporan Kinerja BPS Kota Surabaya Tahun 2016\n            </a>\n           </li>\n          </ul>\n         </li>\n         <li style=\"padding-left:10px;\">\n          <a class=\"sb-toggle-submenu\" href=\"#\">\n           Setiap Saat\n           <span class=\"sb-caret\">\n           </span>\n          </a>\n          <ul class=\"sb-submenu\" style=\"display: none;\">\n           <li class=\"sb-close\" style=\"padding-left:15px;\">\n            <a href=\"https://surabayakota.bps.go.id/menu/24/unduh.html\">\n             Unduh\n            </a>\n           </li>\n           <li class=\"sb-close\" style=\"padding-left:15px;\">\n            <a href=\"https://surabayakota.bps.go.id/menu/29/regulasi.html\">\n             Regulasi\n            </a>\n           </li>\n           <li class=\"sb-close\" style=\"padding-left:15px;\">\n            <a href=\"https://surabayakota.bps.go.id/menu/30/layanan-pengaduan.html\">\n             Layanan Pengaduan\n            </a>\n           </li>\n          </ul>\n         </li>\n         <li style=\"padding-left:10px;\">\n          <a class=\"sb-toggle-submenu\" href=\"#\">\n           Dikecualikan\n           <span class=\"sb-caret\">\n           </span>\n          </a>\n          <ul class=\"sb-submenu\" style=\"display: none;\">\n          </ul>\n         </li>\n        </ul>\n       </li>\n       <li>\n        <a class=\"sb-toggle-submenu\" href=\"#\">\n         Tautan\n         <span class=\"sb-caret\">\n         </span>\n        </a>\n        <ul class=\"sb-submenu\" style=\"display: none;\">\n         <li class=\"sb-close\" style=\"padding-left:10px;\">\n          <a href=\"/galery.html\">\n           Galeri Infografis\n          </a>\n         </li>\n         <li class=\"sb-close\" style=\"padding-left:10px;\">\n          <a href=\"/site/pilihdata.html\">\n           Tabel Dinamis\n          </a>\n         </li>\n         <li class=\"sb-close\" style=\"padding-left:10px;\">\n          <a href=\"/Istilah.html\">\n           Istilah\n          </a>\n         </li>\n         <li class=\"sb-close\" style=\"padding-left:10px;\">\n          <a href=\"http://microdata.bps.go.id\" target=\"_blank\">\n           Katalog Datamikro\n          </a>\n         </li>\n         <li class=\"sb-close\" style=\"padding-left:10px;\">\n          <a href=\"http://sirusa.bps.go.id\" target=\"_blank\">\n           Metadata\n          </a>\n         </li>\n         <li class=\"sb-close\" style=\"padding-left:10px;\">\n          <a href=\"http://rb.bps.go.id/\" target=\"_blank\">\n           Reformasi Birokrasi\n          </a>\n         </li>\n         <!--<li class=\"sb-close\" style=\"padding-left:10px;\"><a href='http://statcapcerdas.bps.go.id/' target=\"_blank\" ></a></li>-->\n         <li class=\"sb-close\" style=\"padding-left:10px;\">\n          <a href=\"http://mfdonline.bps.go.id/\" target=\"_blank\">\n           Master File Desa\n          </a>\n         </li>\n         <li class=\"sb-close\" style=\"padding-left:10px;\">\n          <a href=\"http://spkonline.bps.go.id/\" target=\"_blank\">\n           SPK Online\n          </a>\n         </li>\n         <li class=\"sb-close\" style=\"padding-left:10px;\">\n          <a href=\"http://pengaduan.bps.go.id/\" target=\"_blank\">\n           Pengaduan\n          </a>\n         </li>\n         <li class=\"sb-close\" style=\"padding-left:10px;\">\n          <a href=\"http://lpse.bps.go.id/\" target=\"_blank\">\n           LPSE\n          </a>\n         </li>\n         <li class=\"sb-close\" style=\"padding-left:10px;\">\n          <a href=\"http://www.stis.ac.id/\" target=\"_blank\">\n           Sekolah Tinggi Ilmu Statistik\n          </a>\n         </li>\n         <li class=\"sb-close\" style=\"padding-left:10px;\">\n          <a href=\"http://pusdiklat.bps.go.id/\" target=\"_blank\">\n           Pusat Pendidikan dan Latihan BPS\n          </a>\n         </li>\n        </ul>\n       </li>\n       <li>\n        <small>\n         Hak Cipta &amp;copy Badan Pusat Statistik Republik Indonesia\n        </small>\n       </li>\n      </ul>\n     </nav>\n    </div>\n    <!-- /.sb-left -->\n    <div class=\"sb-slidebar sb-right\">\n     <aside id=\"about-me\">\n      <style>\n       .accordion-container#accordion-daftar-subjek .responsive-accordion-default.responsive-accordion li .responsive-accordion-head{\n\t\t/*berubah*/\n\t\tmin-height: 60px;\n        font-size: 1em;\n}\n\n/*revisi*/\nh2.ctgr{\n\tbackground-size:100% 100% !important;background-repeat:no-repeat !important;\n\tfont-size: 13px;\n\tborder: 1px solid #c1c1c1;\n\tborder-top: 0px solid #c1c1c1;\n\tmargin: 0px;\n\tpadding: 10px 15px;\n\tbackground: #00497d;\n\tcolor: white;\n\tcursor: pointer;\n}\n.resp-tab-content2 {\n    border: 1px solid #c1c1c1;\n    padding: 10px !important;\n    background-color: white;\n}\n.resp-tab-content2 p.even {\n    background-color: #ECECEC;\n    color: #00497d;\n}\n.resp-tab-content2 p.odd {\n    background-color: white;\n    color: #00497d;\n}\n.resp-tab-content2 p {\n    margin: 0 0 5px;\n}\nh2.tab-active span.resp-arrow {\n    border: none;\n    border-left: 6px solid transparent;\n    border-right: 6px solid transparent;\n    border-bottom: 12px solid white;\n}\n#tab_item-0{\nbackground:url(/images/mobile/birutua.png);\n}\n#tab_item-1{\nbackground:url(/images/mobile/orange.png);\n}\n#tab_item-2{\nbackground:url(/images/mobile/hijau.png);\n}\n      </style>\n      <div id=\"accordion-daftar-subjek2\" style=\"display: block; width: 100%; margin: 0px;\">\n       <div class=\"resp-tabs-container2\">\n        <h2 class=\"ctgr tab_item-0\" id=\"tab_item-0\" onclick=\"sosial();\">\n         <span class=\"resp-arrow\">\n         </span>\n         Sosial dan\n         <br/>\n         Kependudukan\n        </h2>\n        <div aria-labelledby=\"tab_item-0\" class=\"resp-tab-content2\" id=\"sosial\">\n         <p class=\"even\">\n          <small>\n           <a href=\"/subject/108/agama.html#subjekViewTab3\">\n            Agama\n           </a>\n          </small>\n         </p>\n         <p class=\"odd\">\n          <small>\n           <a href=\"/subject/40/gender.html#subjekViewTab3\">\n            Gender\n           </a>\n          </small>\n         </p>\n         <p class=\"even\">\n          <small>\n           <a href=\"/subject/153/geografi.html#subjekViewTab3\">\n            Geografi\n           </a>\n          </small>\n         </p>\n         <p class=\"list-sosial odd\" style=\"display:none\">\n          <small>\n           <a href=\"/subject/151/iklim.html#subjekViewTab3\">\n            Iklim\n           </a>\n          </small>\n         </p>\n         <p class=\"list-sosial even\" style=\"display:none\">\n          <small>\n           <a href=\"/subject/26/indeks-pembangunan-manusia.html#subjekViewTab3\">\n            Indeks Pembangunan Manusia\n           </a>\n          </small>\n         </p>\n         <p class=\"list-sosial odd\" style=\"display:none\">\n          <small>\n           <a href=\"/subject/23/kemiskinan.html#subjekViewTab3\">\n            Kemiskinan\n           </a>\n          </small>\n         </p>\n         <p class=\"list-sosial even\" style=\"display:none\">\n          <small>\n           <a href=\"/subject/12/kependudukan.html#subjekViewTab3\">\n            Kependudukan\n           </a>\n          </small>\n         </p>\n         <p class=\"list-sosial odd\" style=\"display:none\">\n          <small>\n           <a href=\"/subject/30/kesehatan.html#subjekViewTab3\">\n            Kesehatan\n           </a>\n          </small>\n         </p>\n         <p class=\"list-sosial even\" style=\"display:none\">\n          <small>\n           <a href=\"/subject/5/konsumsi-dan-pengeluaran.html#subjekViewTab3\">\n            Konsumsi dan Pengeluaran\n           </a>\n          </small>\n         </p>\n         <p class=\"list-sosial odd\" style=\"display:none\">\n          <small>\n           <a href=\"/subject/101/pemerintahan.html#subjekViewTab3\">\n            Pemerintahan\n           </a>\n          </small>\n         </p>\n         <p class=\"list-sosial even\" style=\"display:none\">\n          <small>\n           <a href=\"/subject/28/pendidikan.html#subjekViewTab3\">\n            Pendidikan\n           </a>\n          </small>\n         </p>\n         <p class=\"list-sosial odd\" style=\"display:none\">\n          <small>\n           <a href=\"/subject/6/tenaga-kerja.html#subjekViewTab3\">\n            Tenaga Kerja\n           </a>\n          </small>\n         </p>\n         <p class=\"odd\" style=\"text-align:right;\">\n          <button class=\"sosial-more btn btn-xs btn-info\" onclick=\"sosial();\">\n           Selengkapnya...\n          </button>\n         </p>\n        </div>\n        <h2 class=\"ctgr tab_item-1\" id=\"tab_item-1\" onclick=\"ekonomi();\">\n         <span class=\"resp-arrow\">\n         </span>\n         Ekonomi dan\n         <br/>\n         Perdagangan\n        </h2>\n        <div aria-labelledby=\"tab_item-1\" class=\"resp-tab-content2\" id=\"ekonomi\">\n         <p class=\"even\">\n          <small>\n           <a href=\"/subject/7/energi.html#subjekViewTab3\">\n            Energi\n           </a>\n          </small>\n         </p>\n         <p class=\"odd\">\n          <small>\n           <a href=\"/subject/9/industri.html#subjekViewTab3\">\n            Industri\n           </a>\n          </small>\n         </p>\n         <p class=\"even\">\n          <small>\n           <a href=\"/subject/3/inflasi.html#subjekViewTab3\">\n            Inflasi\n           </a>\n          </small>\n         </p>\n         <p class=\"list-ekonomi odd\" style=\"display:none\">\n          <small>\n           <a href=\"/subject/13/keuangan.html#subjekViewTab3\">\n            Keuangan\n           </a>\n          </small>\n         </p>\n         <p class=\"list-ekonomi even\" style=\"display:none\">\n          <small>\n           <a href=\"/subject/2/komunikasi.html#subjekViewTab3\">\n            Komunikasi\n           </a>\n          </small>\n         </p>\n         <p class=\"list-ekonomi odd\" style=\"display:none\">\n          <small>\n           <a href=\"/subject/16/pariwisata.html#subjekViewTab3\">\n            Pariwisata\n           </a>\n          </small>\n         </p>\n         <p class=\"list-ekonomi even\" style=\"display:none\">\n          <small>\n           <a href=\"/subject/52/produk-domestik-regional-bruto.html#subjekViewTab3\">\n            Produk Domestik Regional Bruto\n           </a>\n          </small>\n         </p>\n         <p class=\"list-ekonomi odd\" style=\"display:none\">\n          <small>\n           <a href=\"/subject/156/produk-domestik-regional-bruto--lapangan-usaha-.html#subjekViewTab3\">\n            Produk Domestik Regional Bruto (Lapangan Usaha)\n           </a>\n          </small>\n         </p>\n         <p class=\"list-ekonomi even\" style=\"display:none\">\n          <small>\n           <a href=\"/subject/155/produk-domestik-regional-bruto--pengeluaran-.html#subjekViewTab3\">\n            Produk Domestik Regional Bruto (Pengeluaran)\n           </a>\n          </small>\n         </p>\n         <p class=\"list-ekonomi odd\" style=\"display:none\">\n          <small>\n           <a href=\"/subject/17/transportasi.html#subjekViewTab3\">\n            Transportasi\n           </a>\n          </small>\n         </p>\n         <p class=\"odd\" style=\"text-align:right;\">\n          <button class=\"ekonomi-more btn btn-xs btn-warning\" onclick=\"ekonomi();\">\n           Selengkapnya...\n          </button>\n         </p>\n        </div>\n        <h2 class=\"ctgr tab_item-2\" id=\"tab_item-2\" onclick=\"pertanian();\">\n         <span class=\"resp-arrow\">\n         </span>\n         Pertanian dan\n         <br/>\n         Pertambangan\n        </h2>\n        <div aria-labelledby=\"tab_item-2\" class=\"resp-tab-content2\" id=\"pertanian\">\n         <p class=\"even\">\n          <small>\n           <a href=\"/subject/55/hortikultura.html#subjekViewTab3\">\n            Hortikultura\n           </a>\n          </small>\n         </p>\n         <p class=\"odd\">\n          <small>\n           <a href=\"/subject/60/kehutanan.html#subjekViewTab3\">\n            Kehutanan\n           </a>\n          </small>\n         </p>\n         <p class=\"even\">\n          <small>\n           <a href=\"/subject/56/perikanan.html#subjekViewTab3\">\n            Perikanan\n           </a>\n          </small>\n         </p>\n         <p class=\"list-pertanian odd\" style=\"display:none\">\n          <small>\n           <a href=\"/subject/54/perkebunan.html#subjekViewTab3\">\n            Perkebunan\n           </a>\n          </small>\n         </p>\n         <p class=\"list-pertanian even\" style=\"display:none\">\n          <small>\n           <a href=\"/subject/24/peternakan.html#subjekViewTab3\">\n            Peternakan\n           </a>\n          </small>\n         </p>\n         <p class=\"list-pertanian odd\" style=\"display:none\">\n          <small>\n           <a href=\"/subject/53/tanaman-pangan.html#subjekViewTab3\">\n            Tanaman Pangan\n           </a>\n          </small>\n         </p>\n         <p class=\"odd\" style=\"text-align:right;\">\n          <button class=\"pertanian-more btn btn-xs btn-success\" onclick=\"pertanian();\">\n           Selengkapnya...\n          </button>\n         </p>\n        </div>\n       </div>\n      </div>\n     </aside>\n    </div>\n    <!-- /.sb-right -->\n   </div>\n  </nav>\n </body>\n <script type=\"text/javascript\">\n  $(document).ready(function() {\n      var tampil=1;\n        if (tampil=true) {\n            $('.popupbaru').trigger('click');\n        }\n    });\n </script>\n <script src=\"https://surabayakota.bps.go.id/js/mobile/bootstrap.min.js;wa3e2ca0b55e16144e\">\n </script>\n <script src=\"https://surabayakota.bps.go.id/js/accordion/responsive-accordion.js;wada2c63e75ef95827\" type=\"text/javascript\">\n </script>\n <!-- Slidebars -->\n <script src=\"https://surabayakota.bps.go.id/js/mobile/slidebars.min.js;wacd5f806f6067b486\">\n </script>\n <script src=\"https://surabayakota.bps.go.id/slick/slick.js;wa3bdbf9fad2d55e4f\" type=\"text/javascript\">\n </script>\n <script src=\"https://surabayakota.bps.go.id/mod/simplemodal/js/jquery.simplemodal.js;waf92ccc31fa76eaca\" type=\"text/javascript\">\n </script>\n <script>\n  (function($) {\n\t\t\t\t$(document).ready(function() {\n\t\t\t\t\t/* ===== Script Jquery untuk menampilkan slidebar kiri kanan ketika tampilan mobile ===== */\n\t\t\t\t\t\t// Initiate Slidebars\n\t\t\t\t\t\t$.slidebars();\n\t\t\t\t\t\t\n\t\t\t\t\t\t// Slidebars Submenus\n\t\t\t\t\t\t$('.sb-toggle-submenu').off('click').on('click', function() {\n\t\t\t\t\t\t\t$submenu = $(this).parent().children('.sb-submenu');\n\t\t\t\t\t\t\t$(this).add($submenu).toggleClass('sb-submenu-active'); // Toggle active class.\n\t\t\t\t\t\t\t\n\t\t\t\t\t\t\tif ($submenu.hasClass('sb-submenu-active')) {\n\t\t\t\t\t\t\t\t$submenu.slideDown(200);\n\t\t\t\t\t\t\t\t/*dua baris ini adalah baris modifikasi agar side slider menu bisa bertindak layaknya accordion*/\n\t\t\t\t\t\t\t\t$(this).parent().siblings().find(\"a\").removeClass(\"sb-submenu-active\");\n\t\t\t\t\t\t\t\t$(this).parent().siblings().find(\"ul\").removeClass(\"sb-submenu-active\").hide();\n\t\t\t\t\t\t\t} else {\n\t\t\t\t\t\t\t\t$submenu.slideUp(200);\n\t\t\t\t\t\t\t}\n\t\t\t\t\t\t});\n\t\t\t\t\t\n\t\t\t\t\t//dimz-add\n\t\t\t\t\t$(\"li.sb-close, li.sb-close a\").off(\"touchend\");\n\t\t\t\t\t\t// Script Jquery untuk menampilkan submenu ketika salah satu item menu bar disorot.\n\t\t\t\t\t\t$('ul.menus>li').hover(\n\t\t\t\t\t\t  function() {\n\t\t\t\t\t\t   $(this).siblings().find(\"div table ul.submenus\").css(\"display\",\"none\");\n\t\t\t\t\t\t\t$(this).find(\"div table ul.submenus\").css(\"display\",\"block\");\n\t\t\t\t\t\t  }, function() {\n\t\t\t\t\t\t\t$(this).children(\"ul.submenus\").css(\"display\",\"none\");\n\t\t\t\t\t\t  }\n\t\t\t\t\t\t);\n\t\t\t\t\t\t\n\t\t\t\t\t\t\t\t\t\t\t\t\n\t\t\t\t\t\t// Script Jquery untuk menampilkan subsubmenu ketika salah satu item submenu dari tab 'Informasi Publik' disorot.\n\t\t\t\t\t\t$('ul.menus > li:nth-child(7) > div table ul.submenus >li').hover(\n\t\t\t\t\t\t  function() {\n\t\t\t\t\t\t\t$(this).siblings().children(\"ul.subsubmenus\").css(\"display\",\"none\");\n\t\t\t\t\t\t\t$(this).children(\"ul.subsubmenus\").css(\"display\",\"block\");\n\t\t\t\t\t\t  }, function() {\n\t\t\t\t\t\t\t$(this).children(\"ul.subsubmenus\").css(\"display\",\"none\");\n\t\t\t\t\t\t  }\n\t\t\t\t\t\t);\n\t\t\t\t\t\t\n\t\t\t\t\t\t// Script Jquery untuk menyembunyikan panel submenu ketika keluar dari panel submenu tersebut.\n\t\t\t\t\t\t$('ul.submenus')\n\t\t\t\t\t\t.hover(\n\t\t\t\t\t\t  function() {\n\t\t\t\t\t\t\t$(this).css(\"display\",\"none\");\n\t\t\t\t\t\t  }\n\t\t\t\t\t\t);\n\t\t\t\t\t\t\n\t\t\t\t\t\t// Script jquery  untuk mengubah warna latar belakang menu tabs yang tersorot.\n\t\t\t\t\t\t$('ul.submenus >li,ul.subsubmenus >li')\n\t\t\t\t\t\t.hover(\n\t\t\t\t\t\t  function() {\n\t\t\t\t\t\t\t$(this).css(\"background-color\",\"rgb(211, 221, 221)\");\n\t\t\t\t\t\t\t$(this).children(\"a\").css(\"text-decoration\",\"none\");\n\t\t\t\t\t\t  },\n\t\t\t\t\t\t  function() {\n\t\t\t\t\t\t\t$(this).css(\"background-color\",\"white\");\n\t\t\t\t\t\t  }\n\t\t\t\t\t\t);\n\n\t\t\t\t\t/* ===== Script Jquery yang mengatur event yang terjadi pada tombol sensus ===== */\n\t\t\t\t\t\t$('#tombol-sensus').click(\n\t\t\t\t\t\t\tfunction(){\n\t\t\t\t\t\t\t$('#list-sensus').toggle();\n\t\t\t\t\t\t\t}\n\t\t\t\t\t\t);\n\n\t\t\t\t\t\t$('#tombol-sensus').hover(\n\t\t\t\t\t\t\tfunction(){\n\t\t\t\t\t\t\t$(this).css('cursor','pointer');\n\t\t\t\t\t\t\t$('.navicon-line').css('-moz-box-shadow','0 0 5px #2C44EA').css('-webkit-box-shadow','0 0 5px #2C44EA').css('box-shadow','0 0 5px #2C44EA');\n\t\t\t\t\t\t\t}\n\t\t\t\t\t\t\t,\n\t\t\t\t\t\t\tfunction(){\n\t\t\t\t\t\t\t$('.navicon-line').css('-moz-box-shadow','none').css('-webkit-box-shadow','none').css('box-shadow','none');\n\t\t\t\t\t\t\t}\n\t\t\t\t\t\t);\n\t\t\t\t\t\t\t\t\t\t\t\t\n\t\t\t\t\t\t$('#list-sensus ul').hover(\n\t\t\t\t\t\t\tfunction(){\n\t\t\t\t\t\t\t\n\t\t\t\t\t\t\t},\n\t\t\t\t\t\t\tfunction(){\n\t\t\t\t\t\t\t$(\"#list-sensus\").hide();\n\t\t\t\t\t\t\t}\t\t\t\t\t\t\t\n\t\t\t\t\t\t);\n\t\t\t\t\t\t$('#list-sensus ul li').hover(\n\t\t\t\t\t\t\tfunction(){\n\t\t\t\t\t\t\t$(this).css('margin','0px -5px');\n\t\t\t\t\t\t\t}\n\t\t\t\t\t\t\t,\n\t\t\t\t\t\t\tfunction(){\n\t\t\t\t\t\t\t$(this).css('margin','0px');\n\t\t\t\t\t\t\t}\n\t\t\t\t\t\t);\n\t\t\t\t\t\t$(\".box #accordion-daftar-subjek\").easyResponsiveTabs({           \n\t\t\t\t\t\t\ttype: \"accordion\", //Types: default, vertical, accordion           \n\t\t\t\t\t\t\twidth: \"auto\", //auto or any width like 600px\n\t\t\t\t\t\t\tfit: true,   // 100% fit in a container\n\t\t\t\t\t\t\tactivate: function(event) {  }// Callback function if tab is switched                            \n\t\t\t\t\t        });\n\t\t\t\t\t\t$(\"aside #accordion-daftar-subjek\").easyResponsiveTabs({           \n\t\t\t\t\t\t\ttype: \"accordion\", //Types: default, vertical, accordion           \n\t\t\t\t\t\t\twidth: \"auto\", //auto or any width like 600px\n\t\t\t\t\t\t\tfit: true,   // 100% fit in a container\n\t\t\t\t\t\t\tactivate: function(event) {  }// Callback function if tab is switched                            \n\t\t\t\t\t        });\n\t\t\t\t\t\n\t\t\t\t});\n\t\t\t}) (jQuery);\n </script>\n <!-- Prettify -->\n <!-- Smooth Page Scrolling -->\n <script>\n  (function($) {\n\t\t\t\t$(document).ready(function() {\n\t\t\t\t\t$('a[href=\"#\"]').not('a.sb-toggle-submenu').on('touchend click', function(e) {\n\t\t\t\t\t//dimz-edit\n\t\t\t\t\t\te.preventDefault();\n\t\t\t\t\t\tvar id = $(this).attr(\"href\");\n\t\t\t\t\t\tvar offset = 70;\n\t\t\t\t\t\tvar target = $(id).offset().top - offset;\n\t\t\t\t\t\t\n\t\t\t\t\t\t$('html, body').animate({scrollTop:target}, 500);\n\t\t\t\t\t});\n\t\t\t\t});\n\t\t\t}) (jQuery);\n </script>\n <!-- Form Validation -->\n <script src=\"https://surabayakota.bps.go.id/js/mobile/form-validation.js;wa8e4438a3177b5020\">\n </script>\n <script>\n  /*\n\t\t\t(function($) {\n\t\t\t\t$(document).ready(function() {\n\t\t\t\t\t// Slidebars Submenus\n\t\t\t\t\t$('#forced_desktop_floating_search_trigger').on('click', function() {\n\t\t\t\t\t$('#floating_search').show();\n\t\t\t\t\t});\n\t\t\t\t});\n\t\t\t}) (jQuery);*/\n </script>\n</html>\n"
    }
   ],
   "source": [
    "from bs4 import BeautifulSoup\n",
    "soup = BeautifulSoup(website_url,'lxml')\n",
    "print(soup.prettify())"
   ]
  },
  {
   "cell_type": "markdown",
   "execution_count": null,
   "metadata": {},
   "outputs": [],
   "source": [
    "And then let's find the table we are currently looking for, in tag **excel1865**."
   ]
  },
  {
   "cell_type": "code",
   "execution_count": 4,
   "metadata": {},
   "outputs": [
    {
     "data": {
      "text/plain": "<table cellpadding=\"0\" cellspacing=\"0\" class=\"excel1865\">\n<col style=\"width:139pt;\" width=\"185\"/>\n<col span=\"3\" style=\"width:83pt;\" width=\"110\"/>\n<tr style=\"height:15.0pt;\">\n<td class=\"excel1897\" colspan=\"4\" style=\"height:15.0pt;width:388pt;\" width=\"515\">Banyaknya    Penduduk Menurut Jenis Kelamin Per Kecamatan Hasil Registrasi, 2014</td>\n</tr>\n<tr style=\"height:15.75pt;\">\n<td class=\"excel1896\" colspan=\"4\" style=\"height:15.75pt;\">Population by Sex    and Sub District Taken  from Population    Registar, 2014</td>\n</tr>\n<tr style=\"height:20.1pt;\">\n<td class=\"excel1894\" rowspan=\"2\" style=\"border-bottom:.5pt solid black;height:40.2pt;border-top:none;\">Kecamatan/<font class=\"font5\">sub district</font></td>\n<td class=\"excel1878\" style=\"border-top:none;border-left:none;\">Laki-laki/</td>\n<td class=\"excel1878\" style=\"border-top:none;border-left:none;\">Perempuan/</td>\n<td class=\"excel1879\" style=\"border-top:none;border-left:none;\">Jumlah/</td>\n</tr>\n<tr style=\"height:20.1pt;\">\n<td class=\"excel1880\" style=\"height:20.1pt;border-top:none;border-left:none;\"> Male</td>\n<td class=\"excel1880\" style=\"border-top:none;border-left:none;\">Female</td>\n<td class=\"excel1881\" style=\"border-top:none;border-left:none;\">Total</td>\n</tr>\n<tr style=\"height:15.0pt;\">\n<td class=\"excel1884\" style=\"height:15.0pt;\">Surabaya Pusat</td>\n<td class=\"excel1885\"></td>\n<td class=\"excel1885\"></td>\n<td class=\"excel1885\"></td>\n</tr>\n<tr style=\"height:15.0pt;\">\n<td class=\"excel1886\" style=\"height:15.0pt;\">Tegalsari       </td>\n<td class=\"excel1887\">50,843</td>\n<td align=\"right\" class=\"excel1888\">50,873</td>\n<td align=\"right\" class=\"excel1889\">101,716</td>\n</tr>\n<tr style=\"height:15.0pt;\">\n<td class=\"excel1886\" style=\"height:15.0pt;\">Genteng                     </td>\n<td align=\"right\" class=\"excel1888\">29,387</td>\n<td align=\"right\" class=\"excel1888\">29,886</td>\n<td align=\"right\" class=\"excel1889\">59,273</td>\n</tr>\n<tr style=\"height:15.0pt;\">\n<td class=\"excel1886\" style=\"height:15.0pt;\">Bubutan </td>\n<td align=\"right\" class=\"excel1888\">50,909</td>\n<td align=\"right\" class=\"excel1888\">50,903</td>\n<td align=\"right\" class=\"excel1889\">101,812</td>\n</tr>\n<tr style=\"height:15.0pt;\">\n<td class=\"excel1886\" style=\"height:15.0pt;\">Simokerto                   </td>\n<td align=\"right\" class=\"excel1888\">48,905</td>\n<td align=\"right\" class=\"excel1888\">48,808</td>\n<td align=\"right\" class=\"excel1889\">97,713</td>\n</tr>\n<tr style=\"height:15.0pt;\">\n<td class=\"excel1884\" style=\"height:15.0pt;\">Surabaya Utara</td>\n<td class=\"excel1890\"></td>\n<td class=\"excel1890\"></td>\n<td class=\"excel1889\"></td>\n</tr>\n<tr style=\"height:15.0pt;\">\n<td class=\"excel1886\" style=\"height:15.0pt;\">Pabean Cantikan</td>\n<td align=\"right\" class=\"excel1888\">41,419</td>\n<td align=\"right\" class=\"excel1888\">40,964</td>\n<td align=\"right\" class=\"excel1889\">82,383</td>\n</tr>\n<tr style=\"height:15.0pt;\">\n<td class=\"excel1886\" style=\"height:15.0pt;\">Semampir                    </td>\n<td align=\"right\" class=\"excel1888\">92,390</td>\n<td align=\"right\" class=\"excel1888\">90,141</td>\n<td align=\"right\" class=\"excel1889\">182,531</td>\n</tr>\n<tr style=\"height:15.0pt;\">\n<td class=\"excel1886\" style=\"height:15.0pt;\">Krembangan                  </td>\n<td align=\"right\" class=\"excel1888\">58,136</td>\n<td align=\"right\" class=\"excel1888\">57,502</td>\n<td align=\"right\" class=\"excel1889\">115,638</td>\n</tr>\n<tr style=\"height:15.0pt;\">\n<td class=\"excel1886\" style=\"height:15.0pt;\">Kenjeran                    </td>\n<td align=\"right\" class=\"excel1888\">74,597</td>\n<td align=\"right\" class=\"excel1888\">72,160</td>\n<td align=\"right\" class=\"excel1889\">146,757</td>\n</tr>\n<tr style=\"height:15.0pt;\">\n<td class=\"excel1886\" style=\"height:15.0pt;\">Bulak</td>\n<td align=\"right\" class=\"excel1888\">20,446</td>\n<td align=\"right\" class=\"excel1888\">20,196</td>\n<td align=\"right\" class=\"excel1889\">40,642</td>\n</tr>\n<tr style=\"height:15.0pt;\">\n<td class=\"excel1884\" style=\"height:15.0pt;\">Surabaya Timur</td>\n<td class=\"excel1890\"></td>\n<td class=\"excel1890\"></td>\n<td class=\"excel1889\"></td>\n</tr>\n<tr style=\"height:15.0pt;\">\n<td class=\"excel1886\" style=\"height:15.0pt;\">Tambaksari                  </td>\n<td align=\"right\" class=\"excel1888\">108,625</td>\n<td align=\"right\" class=\"excel1888\">108,475</td>\n<td align=\"right\" class=\"excel1889\">217,100</td>\n</tr>\n<tr style=\"height:15.0pt;\">\n<td class=\"excel1886\" style=\"height:15.0pt;\">Gubeng                      </td>\n<td align=\"right\" class=\"excel1888\">67,403</td>\n<td align=\"right\" class=\"excel1888\">69,218</td>\n<td align=\"right\" class=\"excel1889\">136,621</td>\n</tr>\n<tr style=\"height:15.0pt;\">\n<td class=\"excel1886\" style=\"height:15.0pt;\">Rungkut                     </td>\n<td align=\"right\" class=\"excel1888\">52,120</td>\n<td align=\"right\" class=\"excel1888\">51,926</td>\n<td align=\"right\" class=\"excel1889\">104,046</td>\n</tr>\n<tr style=\"height:15.0pt;\">\n<td class=\"excel1886\" style=\"height:15.0pt;\">Tenggilis Mejoyo            </td>\n<td align=\"right\" class=\"excel1888\">27,386</td>\n<td align=\"right\" class=\"excel1888\">27,475</td>\n<td align=\"right\" class=\"excel1889\">54,861</td>\n</tr>\n<tr style=\"height:15.0pt;\">\n<td class=\"excel1886\" style=\"height:15.0pt;\">Gunung Anyar                </td>\n<td align=\"right\" class=\"excel1888\">26,188</td>\n<td align=\"right\" class=\"excel1888\">25,932</td>\n<td align=\"right\" class=\"excel1889\">52,120</td>\n</tr>\n<tr style=\"height:15.0pt;\">\n<td class=\"excel1886\" style=\"height:15.0pt;\">Sukolilo                    </td>\n<td align=\"right\" class=\"excel1888\">52,445</td>\n<td align=\"right\" class=\"excel1888\">52,448</td>\n<td align=\"right\" class=\"excel1889\">104,893</td>\n</tr>\n<tr style=\"height:15.0pt;\">\n<td class=\"excel1886\" style=\"height:15.0pt;\">Mulyorejo                   </td>\n<td align=\"right\" class=\"excel1888\">41,178</td>\n<td align=\"right\" class=\"excel1888\">41,595</td>\n<td align=\"right\" class=\"excel1889\">82,773</td>\n</tr>\n<tr style=\"height:15.0pt;\">\n<td class=\"excel1884\" style=\"height:15.0pt;\">Surabaya Selatan</td>\n<td class=\"excel1890\"></td>\n<td class=\"excel1890\"></td>\n<td class=\"excel1889\"></td>\n</tr>\n<tr style=\"height:15.0pt;\">\n<td class=\"excel1886\" style=\"height:15.0pt;\">Sawahan                    </td>\n<td align=\"right\" class=\"excel1888\">100,426</td>\n<td align=\"right\" class=\"excel1888\">101,295</td>\n<td align=\"right\" class=\"excel1889\">201,721</td>\n</tr>\n<tr style=\"height:15.0pt;\">\n<td class=\"excel1886\" style=\"height:15.0pt;\">Wonokromo                  </td>\n<td align=\"right\" class=\"excel1888\">79,629</td>\n<td align=\"right\" class=\"excel1888\">80,335</td>\n<td align=\"right\" class=\"excel1889\">159,964</td>\n</tr>\n<tr style=\"height:15.0pt;\">\n<td class=\"excel1886\" style=\"height:15.0pt;\">Karangpilang               </td>\n<td align=\"right\" class=\"excel1888\">35,382</td>\n<td align=\"right\" class=\"excel1888\">34,940</td>\n<td align=\"right\" class=\"excel1889\">70,322</td>\n</tr>\n<tr style=\"height:15.0pt;\">\n<td class=\"excel1886\" style=\"height:15.0pt;\">Dukuh Pakis                </td>\n<td align=\"right\" class=\"excel1888\">29,245</td>\n<td align=\"right\" class=\"excel1888\">29,184</td>\n<td align=\"right\" class=\"excel1889\">58,429</td>\n</tr>\n<tr style=\"height:15.0pt;\">\n<td class=\"excel1886\" style=\"height:15.0pt;\">Wiyung                     </td>\n<td align=\"right\" class=\"excel1888\">33,220</td>\n<td align=\"right\" class=\"excel1888\">32,522</td>\n<td align=\"right\" class=\"excel1889\">65,742</td>\n</tr>\n<tr style=\"height:15.0pt;\">\n<td class=\"excel1886\" style=\"height:15.0pt;\">Wonocolo                   </td>\n<td align=\"right\" class=\"excel1888\">39,299</td>\n<td align=\"right\" class=\"excel1888\">39,038</td>\n<td align=\"right\" class=\"excel1889\">78,337</td>\n</tr>\n<tr style=\"height:15.0pt;\">\n<td class=\"excel1886\" style=\"height:15.0pt;\">Gayungan                   </td>\n<td align=\"right\" class=\"excel1888\">22,104</td>\n<td align=\"right\" class=\"excel1888\">21,988</td>\n<td align=\"right\" class=\"excel1889\">44,092</td>\n</tr>\n<tr style=\"height:15.0pt;\">\n<td class=\"excel1886\" style=\"height:15.0pt;\">Jambangan                  </td>\n<td align=\"right\" class=\"excel1888\">23,986</td>\n<td align=\"right\" class=\"excel1888\">23,562</td>\n<td align=\"right\" class=\"excel1889\">47,548</td>\n</tr>\n<tr style=\"height:15.0pt;\">\n<td class=\"excel1884\" style=\"height:15.0pt;\">Surabaya Barat</td>\n<td class=\"excel1890\"></td>\n<td class=\"excel1890\"></td>\n<td class=\"excel1889\"></td>\n</tr>\n<tr style=\"height:15.0pt;\">\n<td class=\"excel1886\" style=\"height:15.0pt;\">Tandes                      </td>\n<td align=\"right\" class=\"excel1888\">44,757</td>\n<td align=\"right\" class=\"excel1888\">44,712</td>\n<td align=\"right\" class=\"excel1889\">89,469</td>\n</tr>\n<tr style=\"height:15.0pt;\">\n<td class=\"excel1886\" style=\"height:15.0pt;\">Sukomanunggal               </td>\n<td align=\"right\" class=\"excel1888\">49,067</td>\n<td align=\"right\" class=\"excel1888\">48,842</td>\n<td align=\"right\" class=\"excel1889\">97,909</td>\n</tr>\n<tr style=\"height:15.0pt;\">\n<td class=\"excel1886\" style=\"height:15.0pt;\">Asemrowo                    </td>\n<td align=\"right\" class=\"excel1888\">22,068</td>\n<td align=\"right\" class=\"excel1888\">20,905</td>\n<td align=\"right\" class=\"excel1889\">42,973</td>\n</tr>\n<tr style=\"height:15.0pt;\">\n<td class=\"excel1886\" style=\"height:15.0pt;\">Benowo                      </td>\n<td align=\"right\" class=\"excel1888\">28,145</td>\n<td align=\"right\" class=\"excel1888\">27,609</td>\n<td align=\"right\" class=\"excel1889\">55,754</td>\n</tr>\n<tr style=\"height:15.0pt;\">\n<td class=\"excel1886\" style=\"height:15.0pt;\">Lakarsantri                 </td>\n<td align=\"right\" class=\"excel1888\">27,042</td>\n<td align=\"right\" class=\"excel1888\">26,430</td>\n<td align=\"right\" class=\"excel1889\">53,472</td>\n</tr>\n<tr style=\"height:15.0pt;\">\n<td class=\"excel1886\" style=\"height:15.0pt;\">Pakal</td>\n<td align=\"right\" class=\"excel1888\">24,716</td>\n<td align=\"right\" class=\"excel1888\">23,768</td>\n<td align=\"right\" class=\"excel1889\">48,484</td>\n</tr>\n<tr style=\"height:15.0pt;\">\n<td class=\"excel1886\" style=\"height:15.0pt;\">Sambikerep</td>\n<td align=\"right\" class=\"excel1888\">29,522</td>\n<td align=\"right\" class=\"excel1888\">29,044</td>\n<td align=\"right\" class=\"excel1889\">58,566</td>\n</tr>\n<tr style=\"height:15.0pt;\">\n<td class=\"excel1886\" style=\"height:15.0pt;\"> </td>\n<td class=\"excel1888\"></td>\n<td class=\"excel1888\"></td>\n<td class=\"excel1888\"></td>\n</tr>\n<tr style=\"height:15.0pt;\">\n<td class=\"excel1891\" style=\"height:15.0pt;\">Jumlah/<font class=\"font6\">Total</font></td>\n<td align=\"right\" class=\"excel1875\">1,430,985</td>\n<td align=\"right\" class=\"excel1875\">1,422,676</td>\n<td align=\"right\" class=\"excel1875\">2,853,661</td>\n</tr>\n<tr style=\"height:15.0pt;\">\n<td class=\"excel1892\" style=\"height:15.0pt;\">2013</td>\n<td align=\"right\" class=\"excel1876\">1,602,875</td>\n<td align=\"right\" class=\"excel1876\">1,597,579</td>\n<td align=\"right\" class=\"excel1876\">3,200,454</td>\n</tr>\n<tr style=\"height:15.0pt;\">\n<td class=\"excel1893\" style=\"height:15.0pt;\">2012</td>\n<td align=\"right\" class=\"excel1877\">1,566,072</td>\n<td align=\"right\" class=\"excel1877\">1,559,504</td>\n<td align=\"right\" class=\"excel1877\">3,125,576</td>\n</tr>\n<tr style=\"height:15.0pt;\">\n<td class=\"excel1882\" colspan=\"3\" style=\"height:15.0pt;\">Sumber    : Dinas Pendaftaran Penduduk dan Pencatatan Sipil Kota Surabaya</td>\n<td class=\"excel1874\"></td>\n</tr>\n<tr style=\"height:15.0pt;\">\n<td class=\"excel1883\" colspan=\"3\" style=\"height:15.0pt;\">Source    : Registry of Inhabitants and Civil Registration Service of Surabaya City</td>\n<td class=\"excel1874\"></td>\n</tr>\n</table>"
     },
     "execution_count": 4,
     "metadata": {},
     "output_type": "execute_result"
    }
   ],
   "source": [
    "my_table = soup.find('table',{'class':'excel1865'})\n",
    "my_table"
   ]
  },
  {
   "cell_type": "markdown",
   "execution_count": null,
   "metadata": {},
   "outputs": [],
   "source": [
    "Checking is our table we are gathering is correct or not."
   ]
  },
  {
   "cell_type": "code",
   "execution_count": 5,
   "metadata": {},
   "outputs": [
    {
     "data": {
      "text/plain": "'\\nGunung Anyar\\xa0\\xa0\\xa0\\xa0\\xa0\\xa0\\xa0\\xa0\\xa0\\xa0\\xa0\\xa0\\xa0\\xa0\\xa0\\xa0\\n26,188\\n25,932\\n52,120\\n'"
     },
     "execution_count": 5,
     "metadata": {},
     "output_type": "execute_result"
    }
   ],
   "source": [
    "links = my_table.findAll('tr')\n",
    "links[20].text"
   ]
  },
  {
   "cell_type": "markdown",
   "execution_count": null,
   "metadata": {},
   "outputs": [],
   "source": [
    "Yeah, we got the Districts name, which means our data is correct. Go on."
   ]
  },
  {
   "cell_type": "code",
   "execution_count": 6,
   "metadata": {},
   "outputs": [
    {
     "data": {
      "text/plain": "'\\nTegalsari\\xa0\\xa0\\xa0\\xa0\\xa0\\xa0\\xa0\\n50,843\\n50,873\\n101,716\\n'"
     },
     "execution_count": 6,
     "metadata": {},
     "output_type": "execute_result"
    }
   ],
   "source": [
    "links[5].text"
   ]
  },
  {
   "cell_type": "markdown",
   "execution_count": null,
   "metadata": {},
   "outputs": [],
   "source": [
    "In this case we are trying to find all the data from index 1 until end, and we want to know what kind of data."
   ]
  },
  {
   "cell_type": "code",
   "execution_count": 7,
   "metadata": {},
   "outputs": [
    {
     "data": {
      "text/plain": "[<tr style=\"height:15.75pt;\">\n <td class=\"excel1896\" colspan=\"4\" style=\"height:15.75pt;\">Population by Sex    and Sub District Taken  from Population    Registar, 2014</td>\n </tr>, <tr style=\"height:20.1pt;\">\n <td class=\"excel1894\" rowspan=\"2\" style=\"border-bottom:.5pt solid black;height:40.2pt;border-top:none;\">Kecamatan/<font class=\"font5\">sub district</font></td>\n <td class=\"excel1878\" style=\"border-top:none;border-left:none;\">Laki-laki/</td>\n <td class=\"excel1878\" style=\"border-top:none;border-left:none;\">Perempuan/</td>\n <td class=\"excel1879\" style=\"border-top:none;border-left:none;\">Jumlah/</td>\n </tr>, <tr style=\"height:20.1pt;\">\n <td class=\"excel1880\" style=\"height:20.1pt;border-top:none;border-left:none;\"> Male</td>\n <td class=\"excel1880\" style=\"border-top:none;border-left:none;\">Female</td>\n <td class=\"excel1881\" style=\"border-top:none;border-left:none;\">Total</td>\n </tr>, <tr style=\"height:15.0pt;\">\n <td class=\"excel1884\" style=\"height:15.0pt;\">Surabaya Pusat</td>\n <td class=\"excel1885\"></td>\n <td class=\"excel1885\"></td>\n <td class=\"excel1885\"></td>\n </tr>, <tr style=\"height:15.0pt;\">\n <td class=\"excel1886\" style=\"height:15.0pt;\">Tegalsari       </td>\n <td class=\"excel1887\">50,843</td>\n <td align=\"right\" class=\"excel1888\">50,873</td>\n <td align=\"right\" class=\"excel1889\">101,716</td>\n </tr>, <tr style=\"height:15.0pt;\">\n <td class=\"excel1886\" style=\"height:15.0pt;\">Genteng                     </td>\n <td align=\"right\" class=\"excel1888\">29,387</td>\n <td align=\"right\" class=\"excel1888\">29,886</td>\n <td align=\"right\" class=\"excel1889\">59,273</td>\n </tr>, <tr style=\"height:15.0pt;\">\n <td class=\"excel1886\" style=\"height:15.0pt;\">Bubutan </td>\n <td align=\"right\" class=\"excel1888\">50,909</td>\n <td align=\"right\" class=\"excel1888\">50,903</td>\n <td align=\"right\" class=\"excel1889\">101,812</td>\n </tr>, <tr style=\"height:15.0pt;\">\n <td class=\"excel1886\" style=\"height:15.0pt;\">Simokerto                   </td>\n <td align=\"right\" class=\"excel1888\">48,905</td>\n <td align=\"right\" class=\"excel1888\">48,808</td>\n <td align=\"right\" class=\"excel1889\">97,713</td>\n </tr>, <tr style=\"height:15.0pt;\">\n <td class=\"excel1884\" style=\"height:15.0pt;\">Surabaya Utara</td>\n <td class=\"excel1890\"></td>\n <td class=\"excel1890\"></td>\n <td class=\"excel1889\"></td>\n </tr>, <tr style=\"height:15.0pt;\">\n <td class=\"excel1886\" style=\"height:15.0pt;\">Pabean Cantikan</td>\n <td align=\"right\" class=\"excel1888\">41,419</td>\n <td align=\"right\" class=\"excel1888\">40,964</td>\n <td align=\"right\" class=\"excel1889\">82,383</td>\n </tr>, <tr style=\"height:15.0pt;\">\n <td class=\"excel1886\" style=\"height:15.0pt;\">Semampir                    </td>\n <td align=\"right\" class=\"excel1888\">92,390</td>\n <td align=\"right\" class=\"excel1888\">90,141</td>\n <td align=\"right\" class=\"excel1889\">182,531</td>\n </tr>, <tr style=\"height:15.0pt;\">\n <td class=\"excel1886\" style=\"height:15.0pt;\">Krembangan                  </td>\n <td align=\"right\" class=\"excel1888\">58,136</td>\n <td align=\"right\" class=\"excel1888\">57,502</td>\n <td align=\"right\" class=\"excel1889\">115,638</td>\n </tr>, <tr style=\"height:15.0pt;\">\n <td class=\"excel1886\" style=\"height:15.0pt;\">Kenjeran                    </td>\n <td align=\"right\" class=\"excel1888\">74,597</td>\n <td align=\"right\" class=\"excel1888\">72,160</td>\n <td align=\"right\" class=\"excel1889\">146,757</td>\n </tr>, <tr style=\"height:15.0pt;\">\n <td class=\"excel1886\" style=\"height:15.0pt;\">Bulak</td>\n <td align=\"right\" class=\"excel1888\">20,446</td>\n <td align=\"right\" class=\"excel1888\">20,196</td>\n <td align=\"right\" class=\"excel1889\">40,642</td>\n </tr>, <tr style=\"height:15.0pt;\">\n <td class=\"excel1884\" style=\"height:15.0pt;\">Surabaya Timur</td>\n <td class=\"excel1890\"></td>\n <td class=\"excel1890\"></td>\n <td class=\"excel1889\"></td>\n </tr>, <tr style=\"height:15.0pt;\">\n <td class=\"excel1886\" style=\"height:15.0pt;\">Tambaksari                  </td>\n <td align=\"right\" class=\"excel1888\">108,625</td>\n <td align=\"right\" class=\"excel1888\">108,475</td>\n <td align=\"right\" class=\"excel1889\">217,100</td>\n </tr>, <tr style=\"height:15.0pt;\">\n <td class=\"excel1886\" style=\"height:15.0pt;\">Gubeng                      </td>\n <td align=\"right\" class=\"excel1888\">67,403</td>\n <td align=\"right\" class=\"excel1888\">69,218</td>\n <td align=\"right\" class=\"excel1889\">136,621</td>\n </tr>, <tr style=\"height:15.0pt;\">\n <td class=\"excel1886\" style=\"height:15.0pt;\">Rungkut                     </td>\n <td align=\"right\" class=\"excel1888\">52,120</td>\n <td align=\"right\" class=\"excel1888\">51,926</td>\n <td align=\"right\" class=\"excel1889\">104,046</td>\n </tr>, <tr style=\"height:15.0pt;\">\n <td class=\"excel1886\" style=\"height:15.0pt;\">Tenggilis Mejoyo            </td>\n <td align=\"right\" class=\"excel1888\">27,386</td>\n <td align=\"right\" class=\"excel1888\">27,475</td>\n <td align=\"right\" class=\"excel1889\">54,861</td>\n </tr>, <tr style=\"height:15.0pt;\">\n <td class=\"excel1886\" style=\"height:15.0pt;\">Gunung Anyar                </td>\n <td align=\"right\" class=\"excel1888\">26,188</td>\n <td align=\"right\" class=\"excel1888\">25,932</td>\n <td align=\"right\" class=\"excel1889\">52,120</td>\n </tr>, <tr style=\"height:15.0pt;\">\n <td class=\"excel1886\" style=\"height:15.0pt;\">Sukolilo                    </td>\n <td align=\"right\" class=\"excel1888\">52,445</td>\n <td align=\"right\" class=\"excel1888\">52,448</td>\n <td align=\"right\" class=\"excel1889\">104,893</td>\n </tr>, <tr style=\"height:15.0pt;\">\n <td class=\"excel1886\" style=\"height:15.0pt;\">Mulyorejo                   </td>\n <td align=\"right\" class=\"excel1888\">41,178</td>\n <td align=\"right\" class=\"excel1888\">41,595</td>\n <td align=\"right\" class=\"excel1889\">82,773</td>\n </tr>, <tr style=\"height:15.0pt;\">\n <td class=\"excel1884\" style=\"height:15.0pt;\">Surabaya Selatan</td>\n <td class=\"excel1890\"></td>\n <td class=\"excel1890\"></td>\n <td class=\"excel1889\"></td>\n </tr>, <tr style=\"height:15.0pt;\">\n <td class=\"excel1886\" style=\"height:15.0pt;\">Sawahan                    </td>\n <td align=\"right\" class=\"excel1888\">100,426</td>\n <td align=\"right\" class=\"excel1888\">101,295</td>\n <td align=\"right\" class=\"excel1889\">201,721</td>\n </tr>, <tr style=\"height:15.0pt;\">\n <td class=\"excel1886\" style=\"height:15.0pt;\">Wonokromo                  </td>\n <td align=\"right\" class=\"excel1888\">79,629</td>\n <td align=\"right\" class=\"excel1888\">80,335</td>\n <td align=\"right\" class=\"excel1889\">159,964</td>\n </tr>, <tr style=\"height:15.0pt;\">\n <td class=\"excel1886\" style=\"height:15.0pt;\">Karangpilang               </td>\n <td align=\"right\" class=\"excel1888\">35,382</td>\n <td align=\"right\" class=\"excel1888\">34,940</td>\n <td align=\"right\" class=\"excel1889\">70,322</td>\n </tr>, <tr style=\"height:15.0pt;\">\n <td class=\"excel1886\" style=\"height:15.0pt;\">Dukuh Pakis                </td>\n <td align=\"right\" class=\"excel1888\">29,245</td>\n <td align=\"right\" class=\"excel1888\">29,184</td>\n <td align=\"right\" class=\"excel1889\">58,429</td>\n </tr>, <tr style=\"height:15.0pt;\">\n <td class=\"excel1886\" style=\"height:15.0pt;\">Wiyung                     </td>\n <td align=\"right\" class=\"excel1888\">33,220</td>\n <td align=\"right\" class=\"excel1888\">32,522</td>\n <td align=\"right\" class=\"excel1889\">65,742</td>\n </tr>, <tr style=\"height:15.0pt;\">\n <td class=\"excel1886\" style=\"height:15.0pt;\">Wonocolo                   </td>\n <td align=\"right\" class=\"excel1888\">39,299</td>\n <td align=\"right\" class=\"excel1888\">39,038</td>\n <td align=\"right\" class=\"excel1889\">78,337</td>\n </tr>, <tr style=\"height:15.0pt;\">\n <td class=\"excel1886\" style=\"height:15.0pt;\">Gayungan                   </td>\n <td align=\"right\" class=\"excel1888\">22,104</td>\n <td align=\"right\" class=\"excel1888\">21,988</td>\n <td align=\"right\" class=\"excel1889\">44,092</td>\n </tr>, <tr style=\"height:15.0pt;\">\n <td class=\"excel1886\" style=\"height:15.0pt;\">Jambangan                  </td>\n <td align=\"right\" class=\"excel1888\">23,986</td>\n <td align=\"right\" class=\"excel1888\">23,562</td>\n <td align=\"right\" class=\"excel1889\">47,548</td>\n </tr>, <tr style=\"height:15.0pt;\">\n <td class=\"excel1884\" style=\"height:15.0pt;\">Surabaya Barat</td>\n <td class=\"excel1890\"></td>\n <td class=\"excel1890\"></td>\n <td class=\"excel1889\"></td>\n </tr>, <tr style=\"height:15.0pt;\">\n <td class=\"excel1886\" style=\"height:15.0pt;\">Tandes                      </td>\n <td align=\"right\" class=\"excel1888\">44,757</td>\n <td align=\"right\" class=\"excel1888\">44,712</td>\n <td align=\"right\" class=\"excel1889\">89,469</td>\n </tr>, <tr style=\"height:15.0pt;\">\n <td class=\"excel1886\" style=\"height:15.0pt;\">Sukomanunggal               </td>\n <td align=\"right\" class=\"excel1888\">49,067</td>\n <td align=\"right\" class=\"excel1888\">48,842</td>\n <td align=\"right\" class=\"excel1889\">97,909</td>\n </tr>, <tr style=\"height:15.0pt;\">\n <td class=\"excel1886\" style=\"height:15.0pt;\">Asemrowo                    </td>\n <td align=\"right\" class=\"excel1888\">22,068</td>\n <td align=\"right\" class=\"excel1888\">20,905</td>\n <td align=\"right\" class=\"excel1889\">42,973</td>\n </tr>, <tr style=\"height:15.0pt;\">\n <td class=\"excel1886\" style=\"height:15.0pt;\">Benowo                      </td>\n <td align=\"right\" class=\"excel1888\">28,145</td>\n <td align=\"right\" class=\"excel1888\">27,609</td>\n <td align=\"right\" class=\"excel1889\">55,754</td>\n </tr>, <tr style=\"height:15.0pt;\">\n <td class=\"excel1886\" style=\"height:15.0pt;\">Lakarsantri                 </td>\n <td align=\"right\" class=\"excel1888\">27,042</td>\n <td align=\"right\" class=\"excel1888\">26,430</td>\n <td align=\"right\" class=\"excel1889\">53,472</td>\n </tr>, <tr style=\"height:15.0pt;\">\n <td class=\"excel1886\" style=\"height:15.0pt;\">Pakal</td>\n <td align=\"right\" class=\"excel1888\">24,716</td>\n <td align=\"right\" class=\"excel1888\">23,768</td>\n <td align=\"right\" class=\"excel1889\">48,484</td>\n </tr>, <tr style=\"height:15.0pt;\">\n <td class=\"excel1886\" style=\"height:15.0pt;\">Sambikerep</td>\n <td align=\"right\" class=\"excel1888\">29,522</td>\n <td align=\"right\" class=\"excel1888\">29,044</td>\n <td align=\"right\" class=\"excel1889\">58,566</td>\n </tr>, <tr style=\"height:15.0pt;\">\n <td class=\"excel1886\" style=\"height:15.0pt;\"> </td>\n <td class=\"excel1888\"></td>\n <td class=\"excel1888\"></td>\n <td class=\"excel1888\"></td>\n </tr>, <tr style=\"height:15.0pt;\">\n <td class=\"excel1891\" style=\"height:15.0pt;\">Jumlah/<font class=\"font6\">Total</font></td>\n <td align=\"right\" class=\"excel1875\">1,430,985</td>\n <td align=\"right\" class=\"excel1875\">1,422,676</td>\n <td align=\"right\" class=\"excel1875\">2,853,661</td>\n </tr>, <tr style=\"height:15.0pt;\">\n <td class=\"excel1892\" style=\"height:15.0pt;\">2013</td>\n <td align=\"right\" class=\"excel1876\">1,602,875</td>\n <td align=\"right\" class=\"excel1876\">1,597,579</td>\n <td align=\"right\" class=\"excel1876\">3,200,454</td>\n </tr>, <tr style=\"height:15.0pt;\">\n <td class=\"excel1893\" style=\"height:15.0pt;\">2012</td>\n <td align=\"right\" class=\"excel1877\">1,566,072</td>\n <td align=\"right\" class=\"excel1877\">1,559,504</td>\n <td align=\"right\" class=\"excel1877\">3,125,576</td>\n </tr>, <tr style=\"height:15.0pt;\">\n <td class=\"excel1882\" colspan=\"3\" style=\"height:15.0pt;\">Sumber    : Dinas Pendaftaran Penduduk dan Pencatatan Sipil Kota Surabaya</td>\n <td class=\"excel1874\"></td>\n </tr>, <tr style=\"height:15.0pt;\">\n <td class=\"excel1883\" colspan=\"3\" style=\"height:15.0pt;\">Source    : Registry of Inhabitants and Civil Registration Service of Surabaya City</td>\n <td class=\"excel1874\"></td>\n </tr>]"
     },
     "execution_count": 7,
     "metadata": {},
     "output_type": "execute_result"
    }
   ],
   "source": [
    "soup.find('table', class_='excel1865').find_all('tr')[1::1]"
   ]
  },
  {
   "cell_type": "markdown",
   "execution_count": null,
   "metadata": {},
   "outputs": [],
   "source": [
    "We got all of the table, the things that we should change it into better display."
   ]
  },
  {
   "cell_type": "code",
   "execution_count": 8,
   "metadata": {},
   "outputs": [],
   "source": [
    "# creating a new list\n",
    "a,b,c,d = [],[],[],[]\n",
    "for items in soup.find('table', class_='excel1865').find_all('tr')[1::1]:\n",
    "    # find all of the data above and separate things to many columns\n",
    "    data = items.find_all(['th','td'])\n",
    "    try:\n",
    "        # getting every data and save into a variable and..\n",
    "        one = data[0].text\n",
    "        two = data[1].text\n",
    "        three = data[2].text\n",
    "        four = data[3].text\n",
    "\n",
    "        # save into list that we made\n",
    "        a.append(one)\n",
    "        b.append(two)\n",
    "        c.append(three)\n",
    "        d.append(four)\n",
    "    except IndexError:pass"
   ]
  },
  {
   "cell_type": "markdown",
   "execution_count": null,
   "metadata": {},
   "outputs": [],
   "source": [
    "For example, let's check the lists b, is it going to be name of districts?"
   ]
  },
  {
   "cell_type": "code",
   "execution_count": 10,
   "metadata": {},
   "outputs": [
    {
     "data": {
      "text/plain": "['Laki-laki/',\n '',\n '50,843',\n '29,387',\n '50,909',\n '48,905',\n '',\n '41,419',\n '92,390',\n '58,136',\n '74,597',\n '20,446',\n '',\n '108,625',\n '67,403',\n '52,120',\n '27,386',\n '26,188',\n '52,445',\n '41,178',\n '',\n '100,426',\n '79,629',\n '35,382',\n '29,245',\n '33,220',\n '39,299',\n '22,104',\n '23,986',\n '',\n '44,757',\n '49,067',\n '22,068',\n '28,145',\n '27,042',\n '24,716',\n '29,522',\n '',\n '1,430,985',\n '1,602,875',\n '1,566,072']"
     },
     "execution_count": 10,
     "metadata": {},
     "output_type": "execute_result"
    }
   ],
   "source": [
    "b"
   ]
  },
  {
   "cell_type": "markdown",
   "execution_count": null,
   "metadata": {},
   "outputs": [],
   "source": [
    "We got the number, so a should be the name of districts."
   ]
  },
  {
   "cell_type": "code",
   "execution_count": 11,
   "metadata": {},
   "outputs": [
    {
     "data": {
      "text/plain": "['Kecamatan/sub district',\n 'Surabaya Pusat',\n 'Tegalsari\\xa0\\xa0\\xa0\\xa0\\xa0\\xa0\\xa0',\n 'Genteng\\xa0\\xa0\\xa0\\xa0\\xa0\\xa0\\xa0\\xa0\\xa0\\xa0\\xa0\\xa0\\xa0\\xa0\\xa0\\xa0\\xa0\\xa0\\xa0\\xa0\\xa0',\n 'Bubutan\\xa0',\n 'Simokerto\\xa0\\xa0\\xa0\\xa0\\xa0\\xa0\\xa0\\xa0\\xa0\\xa0\\xa0\\xa0\\xa0\\xa0\\xa0\\xa0\\xa0\\xa0\\xa0',\n 'Surabaya Utara',\n 'Pabean Cantikan',\n 'Semampir\\xa0\\xa0\\xa0\\xa0\\xa0\\xa0\\xa0\\xa0\\xa0\\xa0\\xa0\\xa0\\xa0\\xa0\\xa0\\xa0\\xa0\\xa0\\xa0\\xa0',\n 'Krembangan\\xa0\\xa0\\xa0\\xa0\\xa0\\xa0\\xa0\\xa0\\xa0\\xa0\\xa0\\xa0\\xa0\\xa0\\xa0\\xa0\\xa0\\xa0',\n 'Kenjeran\\xa0\\xa0\\xa0\\xa0\\xa0\\xa0\\xa0\\xa0\\xa0\\xa0\\xa0\\xa0\\xa0\\xa0\\xa0\\xa0\\xa0\\xa0\\xa0\\xa0',\n 'Bulak',\n 'Surabaya Timur',\n 'Tambaksari\\xa0\\xa0\\xa0\\xa0\\xa0\\xa0\\xa0\\xa0\\xa0\\xa0\\xa0\\xa0\\xa0\\xa0\\xa0\\xa0\\xa0\\xa0',\n 'Gubeng\\xa0\\xa0\\xa0\\xa0\\xa0\\xa0\\xa0\\xa0\\xa0\\xa0\\xa0\\xa0\\xa0\\xa0\\xa0\\xa0\\xa0\\xa0\\xa0\\xa0\\xa0\\xa0',\n 'Rungkut\\xa0\\xa0\\xa0\\xa0\\xa0\\xa0\\xa0\\xa0\\xa0\\xa0\\xa0\\xa0\\xa0\\xa0\\xa0\\xa0\\xa0\\xa0\\xa0\\xa0\\xa0',\n 'Tenggilis Mejoyo\\xa0\\xa0\\xa0\\xa0\\xa0\\xa0\\xa0\\xa0\\xa0\\xa0\\xa0\\xa0',\n 'Gunung Anyar\\xa0\\xa0\\xa0\\xa0\\xa0\\xa0\\xa0\\xa0\\xa0\\xa0\\xa0\\xa0\\xa0\\xa0\\xa0\\xa0',\n 'Sukolilo\\xa0\\xa0\\xa0\\xa0\\xa0\\xa0\\xa0\\xa0\\xa0\\xa0\\xa0\\xa0\\xa0\\xa0\\xa0\\xa0\\xa0\\xa0\\xa0\\xa0',\n 'Mulyorejo\\xa0\\xa0\\xa0\\xa0\\xa0\\xa0\\xa0\\xa0\\xa0\\xa0\\xa0\\xa0\\xa0\\xa0\\xa0\\xa0\\xa0\\xa0\\xa0',\n 'Surabaya Selatan',\n 'Sawahan\\xa0\\xa0\\xa0\\xa0\\xa0\\xa0\\xa0\\xa0\\xa0\\xa0\\xa0\\xa0\\xa0\\xa0\\xa0\\xa0\\xa0\\xa0\\xa0\\xa0',\n 'Wonokromo\\xa0\\xa0\\xa0\\xa0\\xa0\\xa0\\xa0\\xa0\\xa0\\xa0\\xa0\\xa0\\xa0\\xa0\\xa0\\xa0\\xa0\\xa0',\n 'Karangpilang\\xa0\\xa0\\xa0\\xa0\\xa0\\xa0\\xa0\\xa0\\xa0\\xa0\\xa0\\xa0\\xa0\\xa0\\xa0',\n 'Dukuh Pakis\\xa0\\xa0\\xa0\\xa0\\xa0\\xa0\\xa0\\xa0\\xa0\\xa0\\xa0\\xa0\\xa0\\xa0\\xa0\\xa0',\n 'Wiyung\\xa0\\xa0\\xa0\\xa0\\xa0\\xa0\\xa0\\xa0\\xa0\\xa0\\xa0\\xa0\\xa0\\xa0\\xa0\\xa0\\xa0\\xa0\\xa0\\xa0\\xa0',\n 'Wonocolo\\xa0\\xa0\\xa0\\xa0\\xa0\\xa0\\xa0\\xa0\\xa0\\xa0\\xa0\\xa0\\xa0\\xa0\\xa0\\xa0\\xa0\\xa0\\xa0',\n 'Gayungan\\xa0\\xa0\\xa0\\xa0\\xa0\\xa0\\xa0\\xa0\\xa0\\xa0\\xa0\\xa0\\xa0\\xa0\\xa0\\xa0\\xa0\\xa0\\xa0',\n 'Jambangan\\xa0\\xa0\\xa0\\xa0\\xa0\\xa0\\xa0\\xa0\\xa0\\xa0\\xa0\\xa0\\xa0\\xa0\\xa0\\xa0\\xa0\\xa0',\n 'Surabaya Barat',\n 'Tandes\\xa0\\xa0\\xa0\\xa0\\xa0\\xa0\\xa0\\xa0\\xa0\\xa0\\xa0\\xa0\\xa0\\xa0\\xa0\\xa0\\xa0\\xa0\\xa0\\xa0\\xa0\\xa0',\n 'Sukomanunggal\\xa0\\xa0\\xa0\\xa0\\xa0\\xa0\\xa0\\xa0\\xa0\\xa0\\xa0\\xa0\\xa0\\xa0\\xa0',\n 'Asemrowo\\xa0\\xa0\\xa0\\xa0\\xa0\\xa0\\xa0\\xa0\\xa0\\xa0\\xa0\\xa0\\xa0\\xa0\\xa0\\xa0\\xa0\\xa0\\xa0\\xa0',\n 'Benowo\\xa0\\xa0\\xa0\\xa0\\xa0\\xa0\\xa0\\xa0\\xa0\\xa0\\xa0\\xa0\\xa0\\xa0\\xa0\\xa0\\xa0\\xa0\\xa0\\xa0\\xa0\\xa0',\n 'Lakarsantri\\xa0\\xa0\\xa0\\xa0\\xa0\\xa0\\xa0\\xa0\\xa0\\xa0\\xa0\\xa0\\xa0\\xa0\\xa0\\xa0\\xa0',\n 'Pakal',\n 'Sambikerep',\n '\\xa0',\n 'Jumlah/Total',\n '2013',\n '2012']"
     },
     "execution_count": 11,
     "metadata": {},
     "output_type": "execute_result"
    }
   ],
   "source": [
    "a"
   ]
  },
  {
   "cell_type": "markdown",
   "execution_count": null,
   "metadata": {},
   "outputs": [],
   "source": [
    "Okay, let's wrap up into the **DataFrame**."
   ]
  },
  {
   "cell_type": "code",
   "execution_count": 12,
   "metadata": {},
   "outputs": [],
   "source": [
    "import pandas as pd"
   ]
  },
  {
   "cell_type": "code",
   "execution_count": 13,
   "metadata": {},
   "outputs": [],
   "source": [
    "data = pd.DataFrame({'District':a,'Male':b,'Female':c,'Total':d})"
   ]
  },
  {
   "cell_type": "code",
   "execution_count": 14,
   "metadata": {},
   "outputs": [
    {
     "data": {
      "text/html": "<div>\n<style scoped>\n    .dataframe tbody tr th:only-of-type {\n        vertical-align: middle;\n    }\n\n    .dataframe tbody tr th {\n        vertical-align: top;\n    }\n\n    .dataframe thead th {\n        text-align: right;\n    }\n</style>\n<table border=\"1\" class=\"dataframe\">\n  <thead>\n    <tr style=\"text-align: right;\">\n      <th></th>\n      <th>District</th>\n      <th>Male</th>\n      <th>Female</th>\n      <th>Total</th>\n    </tr>\n  </thead>\n  <tbody>\n    <tr>\n      <th>0</th>\n      <td>Kecamatan/sub district</td>\n      <td>Laki-laki/</td>\n      <td>Perempuan/</td>\n      <td>Jumlah/</td>\n    </tr>\n    <tr>\n      <th>1</th>\n      <td>Surabaya Pusat</td>\n      <td></td>\n      <td></td>\n      <td></td>\n    </tr>\n    <tr>\n      <th>2</th>\n      <td>Tegalsari</td>\n      <td>50,843</td>\n      <td>50,873</td>\n      <td>101,716</td>\n    </tr>\n    <tr>\n      <th>3</th>\n      <td>Genteng</td>\n      <td>29,387</td>\n      <td>29,886</td>\n      <td>59,273</td>\n    </tr>\n    <tr>\n      <th>4</th>\n      <td>Bubutan</td>\n      <td>50,909</td>\n      <td>50,903</td>\n      <td>101,812</td>\n    </tr>\n    <tr>\n      <th>5</th>\n      <td>Simokerto</td>\n      <td>48,905</td>\n      <td>48,808</td>\n      <td>97,713</td>\n    </tr>\n    <tr>\n      <th>6</th>\n      <td>Surabaya Utara</td>\n      <td></td>\n      <td></td>\n      <td></td>\n    </tr>\n    <tr>\n      <th>7</th>\n      <td>Pabean Cantikan</td>\n      <td>41,419</td>\n      <td>40,964</td>\n      <td>82,383</td>\n    </tr>\n    <tr>\n      <th>8</th>\n      <td>Semampir</td>\n      <td>92,390</td>\n      <td>90,141</td>\n      <td>182,531</td>\n    </tr>\n    <tr>\n      <th>9</th>\n      <td>Krembangan</td>\n      <td>58,136</td>\n      <td>57,502</td>\n      <td>115,638</td>\n    </tr>\n    <tr>\n      <th>10</th>\n      <td>Kenjeran</td>\n      <td>74,597</td>\n      <td>72,160</td>\n      <td>146,757</td>\n    </tr>\n    <tr>\n      <th>11</th>\n      <td>Bulak</td>\n      <td>20,446</td>\n      <td>20,196</td>\n      <td>40,642</td>\n    </tr>\n    <tr>\n      <th>12</th>\n      <td>Surabaya Timur</td>\n      <td></td>\n      <td></td>\n      <td></td>\n    </tr>\n    <tr>\n      <th>13</th>\n      <td>Tambaksari</td>\n      <td>108,625</td>\n      <td>108,475</td>\n      <td>217,100</td>\n    </tr>\n    <tr>\n      <th>14</th>\n      <td>Gubeng</td>\n      <td>67,403</td>\n      <td>69,218</td>\n      <td>136,621</td>\n    </tr>\n    <tr>\n      <th>15</th>\n      <td>Rungkut</td>\n      <td>52,120</td>\n      <td>51,926</td>\n      <td>104,046</td>\n    </tr>\n    <tr>\n      <th>16</th>\n      <td>Tenggilis Mejoyo</td>\n      <td>27,386</td>\n      <td>27,475</td>\n      <td>54,861</td>\n    </tr>\n    <tr>\n      <th>17</th>\n      <td>Gunung Anyar</td>\n      <td>26,188</td>\n      <td>25,932</td>\n      <td>52,120</td>\n    </tr>\n    <tr>\n      <th>18</th>\n      <td>Sukolilo</td>\n      <td>52,445</td>\n      <td>52,448</td>\n      <td>104,893</td>\n    </tr>\n    <tr>\n      <th>19</th>\n      <td>Mulyorejo</td>\n      <td>41,178</td>\n      <td>41,595</td>\n      <td>82,773</td>\n    </tr>\n    <tr>\n      <th>20</th>\n      <td>Surabaya Selatan</td>\n      <td></td>\n      <td></td>\n      <td></td>\n    </tr>\n    <tr>\n      <th>21</th>\n      <td>Sawahan</td>\n      <td>100,426</td>\n      <td>101,295</td>\n      <td>201,721</td>\n    </tr>\n    <tr>\n      <th>22</th>\n      <td>Wonokromo</td>\n      <td>79,629</td>\n      <td>80,335</td>\n      <td>159,964</td>\n    </tr>\n    <tr>\n      <th>23</th>\n      <td>Karangpilang</td>\n      <td>35,382</td>\n      <td>34,940</td>\n      <td>70,322</td>\n    </tr>\n    <tr>\n      <th>24</th>\n      <td>Dukuh Pakis</td>\n      <td>29,245</td>\n      <td>29,184</td>\n      <td>58,429</td>\n    </tr>\n    <tr>\n      <th>25</th>\n      <td>Wiyung</td>\n      <td>33,220</td>\n      <td>32,522</td>\n      <td>65,742</td>\n    </tr>\n    <tr>\n      <th>26</th>\n      <td>Wonocolo</td>\n      <td>39,299</td>\n      <td>39,038</td>\n      <td>78,337</td>\n    </tr>\n    <tr>\n      <th>27</th>\n      <td>Gayungan</td>\n      <td>22,104</td>\n      <td>21,988</td>\n      <td>44,092</td>\n    </tr>\n    <tr>\n      <th>28</th>\n      <td>Jambangan</td>\n      <td>23,986</td>\n      <td>23,562</td>\n      <td>47,548</td>\n    </tr>\n    <tr>\n      <th>29</th>\n      <td>Surabaya Barat</td>\n      <td></td>\n      <td></td>\n      <td></td>\n    </tr>\n    <tr>\n      <th>30</th>\n      <td>Tandes</td>\n      <td>44,757</td>\n      <td>44,712</td>\n      <td>89,469</td>\n    </tr>\n    <tr>\n      <th>31</th>\n      <td>Sukomanunggal</td>\n      <td>49,067</td>\n      <td>48,842</td>\n      <td>97,909</td>\n    </tr>\n    <tr>\n      <th>32</th>\n      <td>Asemrowo</td>\n      <td>22,068</td>\n      <td>20,905</td>\n      <td>42,973</td>\n    </tr>\n    <tr>\n      <th>33</th>\n      <td>Benowo</td>\n      <td>28,145</td>\n      <td>27,609</td>\n      <td>55,754</td>\n    </tr>\n    <tr>\n      <th>34</th>\n      <td>Lakarsantri</td>\n      <td>27,042</td>\n      <td>26,430</td>\n      <td>53,472</td>\n    </tr>\n    <tr>\n      <th>35</th>\n      <td>Pakal</td>\n      <td>24,716</td>\n      <td>23,768</td>\n      <td>48,484</td>\n    </tr>\n    <tr>\n      <th>36</th>\n      <td>Sambikerep</td>\n      <td>29,522</td>\n      <td>29,044</td>\n      <td>58,566</td>\n    </tr>\n    <tr>\n      <th>37</th>\n      <td></td>\n      <td></td>\n      <td></td>\n      <td></td>\n    </tr>\n    <tr>\n      <th>38</th>\n      <td>Jumlah/Total</td>\n      <td>1,430,985</td>\n      <td>1,422,676</td>\n      <td>2,853,661</td>\n    </tr>\n    <tr>\n      <th>39</th>\n      <td>2013</td>\n      <td>1,602,875</td>\n      <td>1,597,579</td>\n      <td>3,200,454</td>\n    </tr>\n    <tr>\n      <th>40</th>\n      <td>2012</td>\n      <td>1,566,072</td>\n      <td>1,559,504</td>\n      <td>3,125,576</td>\n    </tr>\n  </tbody>\n</table>\n</div>",
      "text/plain": "                        District        Male      Female      Total\n0         Kecamatan/sub district  Laki-laki/  Perempuan/    Jumlah/\n1                 Surabaya Pusat                                   \n2               Tegalsari             50,843      50,873    101,716\n3   Genteng                           29,387      29,886     59,273\n4                       Bubutan       50,909      50,903    101,812\n5   Simokerto                         48,905      48,808     97,713\n6                 Surabaya Utara                                   \n7                Pabean Cantikan      41,419      40,964     82,383\n8   Semampir                          92,390      90,141    182,531\n9   Krembangan                        58,136      57,502    115,638\n10  Kenjeran                          74,597      72,160    146,757\n11                         Bulak      20,446      20,196     40,642\n12                Surabaya Timur                                   \n13  Tambaksari                       108,625     108,475    217,100\n14  Gubeng                            67,403      69,218    136,621\n15  Rungkut                           52,120      51,926    104,046\n16  Tenggilis Mejoyo                  27,386      27,475     54,861\n17  Gunung Anyar                      26,188      25,932     52,120\n18  Sukolilo                          52,445      52,448    104,893\n19  Mulyorejo                         41,178      41,595     82,773\n20              Surabaya Selatan                                   \n21   Sawahan                         100,426     101,295    201,721\n22   Wonokromo                        79,629      80,335    159,964\n23   Karangpilang                     35,382      34,940     70,322\n24   Dukuh Pakis                      29,245      29,184     58,429\n25   Wiyung                           33,220      32,522     65,742\n26   Wonocolo                         39,299      39,038     78,337\n27   Gayungan                         22,104      21,988     44,092\n28   Jambangan                        23,986      23,562     47,548\n29                Surabaya Barat                                   \n30  Tandes                            44,757      44,712     89,469\n31  Sukomanunggal                     49,067      48,842     97,909\n32  Asemrowo                          22,068      20,905     42,973\n33  Benowo                            28,145      27,609     55,754\n34  Lakarsantri                       27,042      26,430     53,472\n35                         Pakal      24,716      23,768     48,484\n36                    Sambikerep      29,522      29,044     58,566\n37                                                                 \n38                  Jumlah/Total   1,430,985   1,422,676  2,853,661\n39                          2013   1,602,875   1,597,579  3,200,454\n40                          2012   1,566,072   1,559,504  3,125,576"
     },
     "execution_count": 14,
     "metadata": {},
     "output_type": "execute_result"
    }
   ],
   "source": [
    "data"
   ]
  },
  {
   "cell_type": "markdown",
   "execution_count": null,
   "metadata": {},
   "outputs": [],
   "source": [
    "Hmm, I think there are some mistakes, there are some missing values which is it should be."
   ]
  },
  {
   "cell_type": "code",
   "execution_count": 15,
   "metadata": {},
   "outputs": [
    {
     "data": {
      "text/plain": "array(['Jumlah/', '', '101,716', '59,273', '101,812', '97,713', '82,383',\n       '182,531', '115,638', '146,757', '40,642', '217,100', '136,621',\n       '104,046', '54,861', '52,120', '104,893', '82,773', '201,721',\n       '159,964', '70,322', '58,429', '65,742', '78,337', '44,092',\n       '47,548', '89,469', '97,909', '42,973', '55,754', '53,472',\n       '48,484', '58,566', '2,853,661', '3,200,454', '3,125,576'],\n      dtype=object)"
     },
     "execution_count": 15,
     "metadata": {},
     "output_type": "execute_result"
    }
   ],
   "source": [
    "data.Total.unique()"
   ]
  },
  {
   "cell_type": "markdown",
   "execution_count": null,
   "metadata": {},
   "outputs": [],
   "source": [
    "Ah, there it is, some spaces should ruining all of the results, let's deleted."
   ]
  },
  {
   "cell_type": "code",
   "execution_count": 16,
   "metadata": {},
   "outputs": [
    {
     "data": {
      "text/html": "<div>\n<style scoped>\n    .dataframe tbody tr th:only-of-type {\n        vertical-align: middle;\n    }\n\n    .dataframe tbody tr th {\n        vertical-align: top;\n    }\n\n    .dataframe thead th {\n        text-align: right;\n    }\n</style>\n<table border=\"1\" class=\"dataframe\">\n  <thead>\n    <tr style=\"text-align: right;\">\n      <th></th>\n      <th>District</th>\n      <th>Male</th>\n      <th>Female</th>\n      <th>Total</th>\n    </tr>\n  </thead>\n  <tbody>\n    <tr>\n      <th>0</th>\n      <td>Kecamatan/sub district</td>\n      <td>Laki-laki/</td>\n      <td>Perempuan/</td>\n      <td>Jumlah/</td>\n    </tr>\n    <tr>\n      <th>2</th>\n      <td>Tegalsari</td>\n      <td>50,843</td>\n      <td>50,873</td>\n      <td>101,716</td>\n    </tr>\n    <tr>\n      <th>3</th>\n      <td>Genteng</td>\n      <td>29,387</td>\n      <td>29,886</td>\n      <td>59,273</td>\n    </tr>\n    <tr>\n      <th>4</th>\n      <td>Bubutan</td>\n      <td>50,909</td>\n      <td>50,903</td>\n      <td>101,812</td>\n    </tr>\n    <tr>\n      <th>5</th>\n      <td>Simokerto</td>\n      <td>48,905</td>\n      <td>48,808</td>\n      <td>97,713</td>\n    </tr>\n    <tr>\n      <th>7</th>\n      <td>Pabean Cantikan</td>\n      <td>41,419</td>\n      <td>40,964</td>\n      <td>82,383</td>\n    </tr>\n    <tr>\n      <th>8</th>\n      <td>Semampir</td>\n      <td>92,390</td>\n      <td>90,141</td>\n      <td>182,531</td>\n    </tr>\n    <tr>\n      <th>9</th>\n      <td>Krembangan</td>\n      <td>58,136</td>\n      <td>57,502</td>\n      <td>115,638</td>\n    </tr>\n    <tr>\n      <th>10</th>\n      <td>Kenjeran</td>\n      <td>74,597</td>\n      <td>72,160</td>\n      <td>146,757</td>\n    </tr>\n    <tr>\n      <th>11</th>\n      <td>Bulak</td>\n      <td>20,446</td>\n      <td>20,196</td>\n      <td>40,642</td>\n    </tr>\n    <tr>\n      <th>13</th>\n      <td>Tambaksari</td>\n      <td>108,625</td>\n      <td>108,475</td>\n      <td>217,100</td>\n    </tr>\n    <tr>\n      <th>14</th>\n      <td>Gubeng</td>\n      <td>67,403</td>\n      <td>69,218</td>\n      <td>136,621</td>\n    </tr>\n    <tr>\n      <th>15</th>\n      <td>Rungkut</td>\n      <td>52,120</td>\n      <td>51,926</td>\n      <td>104,046</td>\n    </tr>\n    <tr>\n      <th>16</th>\n      <td>Tenggilis Mejoyo</td>\n      <td>27,386</td>\n      <td>27,475</td>\n      <td>54,861</td>\n    </tr>\n    <tr>\n      <th>17</th>\n      <td>Gunung Anyar</td>\n      <td>26,188</td>\n      <td>25,932</td>\n      <td>52,120</td>\n    </tr>\n    <tr>\n      <th>18</th>\n      <td>Sukolilo</td>\n      <td>52,445</td>\n      <td>52,448</td>\n      <td>104,893</td>\n    </tr>\n    <tr>\n      <th>19</th>\n      <td>Mulyorejo</td>\n      <td>41,178</td>\n      <td>41,595</td>\n      <td>82,773</td>\n    </tr>\n    <tr>\n      <th>21</th>\n      <td>Sawahan</td>\n      <td>100,426</td>\n      <td>101,295</td>\n      <td>201,721</td>\n    </tr>\n    <tr>\n      <th>22</th>\n      <td>Wonokromo</td>\n      <td>79,629</td>\n      <td>80,335</td>\n      <td>159,964</td>\n    </tr>\n    <tr>\n      <th>23</th>\n      <td>Karangpilang</td>\n      <td>35,382</td>\n      <td>34,940</td>\n      <td>70,322</td>\n    </tr>\n    <tr>\n      <th>24</th>\n      <td>Dukuh Pakis</td>\n      <td>29,245</td>\n      <td>29,184</td>\n      <td>58,429</td>\n    </tr>\n    <tr>\n      <th>25</th>\n      <td>Wiyung</td>\n      <td>33,220</td>\n      <td>32,522</td>\n      <td>65,742</td>\n    </tr>\n    <tr>\n      <th>26</th>\n      <td>Wonocolo</td>\n      <td>39,299</td>\n      <td>39,038</td>\n      <td>78,337</td>\n    </tr>\n    <tr>\n      <th>27</th>\n      <td>Gayungan</td>\n      <td>22,104</td>\n      <td>21,988</td>\n      <td>44,092</td>\n    </tr>\n    <tr>\n      <th>28</th>\n      <td>Jambangan</td>\n      <td>23,986</td>\n      <td>23,562</td>\n      <td>47,548</td>\n    </tr>\n    <tr>\n      <th>30</th>\n      <td>Tandes</td>\n      <td>44,757</td>\n      <td>44,712</td>\n      <td>89,469</td>\n    </tr>\n    <tr>\n      <th>31</th>\n      <td>Sukomanunggal</td>\n      <td>49,067</td>\n      <td>48,842</td>\n      <td>97,909</td>\n    </tr>\n    <tr>\n      <th>32</th>\n      <td>Asemrowo</td>\n      <td>22,068</td>\n      <td>20,905</td>\n      <td>42,973</td>\n    </tr>\n    <tr>\n      <th>33</th>\n      <td>Benowo</td>\n      <td>28,145</td>\n      <td>27,609</td>\n      <td>55,754</td>\n    </tr>\n    <tr>\n      <th>34</th>\n      <td>Lakarsantri</td>\n      <td>27,042</td>\n      <td>26,430</td>\n      <td>53,472</td>\n    </tr>\n    <tr>\n      <th>35</th>\n      <td>Pakal</td>\n      <td>24,716</td>\n      <td>23,768</td>\n      <td>48,484</td>\n    </tr>\n    <tr>\n      <th>36</th>\n      <td>Sambikerep</td>\n      <td>29,522</td>\n      <td>29,044</td>\n      <td>58,566</td>\n    </tr>\n    <tr>\n      <th>38</th>\n      <td>Jumlah/Total</td>\n      <td>1,430,985</td>\n      <td>1,422,676</td>\n      <td>2,853,661</td>\n    </tr>\n    <tr>\n      <th>39</th>\n      <td>2013</td>\n      <td>1,602,875</td>\n      <td>1,597,579</td>\n      <td>3,200,454</td>\n    </tr>\n    <tr>\n      <th>40</th>\n      <td>2012</td>\n      <td>1,566,072</td>\n      <td>1,559,504</td>\n      <td>3,125,576</td>\n    </tr>\n  </tbody>\n</table>\n</div>",
      "text/plain": "                        District        Male      Female      Total\n0         Kecamatan/sub district  Laki-laki/  Perempuan/    Jumlah/\n2               Tegalsari             50,843      50,873    101,716\n3   Genteng                           29,387      29,886     59,273\n4                       Bubutan       50,909      50,903    101,812\n5   Simokerto                         48,905      48,808     97,713\n7                Pabean Cantikan      41,419      40,964     82,383\n8   Semampir                          92,390      90,141    182,531\n9   Krembangan                        58,136      57,502    115,638\n10  Kenjeran                          74,597      72,160    146,757\n11                         Bulak      20,446      20,196     40,642\n13  Tambaksari                       108,625     108,475    217,100\n14  Gubeng                            67,403      69,218    136,621\n15  Rungkut                           52,120      51,926    104,046\n16  Tenggilis Mejoyo                  27,386      27,475     54,861\n17  Gunung Anyar                      26,188      25,932     52,120\n18  Sukolilo                          52,445      52,448    104,893\n19  Mulyorejo                         41,178      41,595     82,773\n21   Sawahan                         100,426     101,295    201,721\n22   Wonokromo                        79,629      80,335    159,964\n23   Karangpilang                     35,382      34,940     70,322\n24   Dukuh Pakis                      29,245      29,184     58,429\n25   Wiyung                           33,220      32,522     65,742\n26   Wonocolo                         39,299      39,038     78,337\n27   Gayungan                         22,104      21,988     44,092\n28   Jambangan                        23,986      23,562     47,548\n30  Tandes                            44,757      44,712     89,469\n31  Sukomanunggal                     49,067      48,842     97,909\n32  Asemrowo                          22,068      20,905     42,973\n33  Benowo                            28,145      27,609     55,754\n34  Lakarsantri                       27,042      26,430     53,472\n35                         Pakal      24,716      23,768     48,484\n36                    Sambikerep      29,522      29,044     58,566\n38                  Jumlah/Total   1,430,985   1,422,676  2,853,661\n39                          2013   1,602,875   1,597,579  3,200,454\n40                          2012   1,566,072   1,559,504  3,125,576"
     },
     "execution_count": 16,
     "metadata": {},
     "output_type": "execute_result"
    }
   ],
   "source": [
    "data = data[data.Total != '']\n",
    "data"
   ]
  },
  {
   "cell_type": "markdown",
   "execution_count": null,
   "metadata": {},
   "outputs": [],
   "source": [
    "Reset our index since that there are some unsequence index."
   ]
  },
  {
   "cell_type": "code",
   "execution_count": 17,
   "metadata": {},
   "outputs": [],
   "source": [
    "data = data[1:].reset_index(drop=True)"
   ]
  },
  {
   "cell_type": "code",
   "execution_count": 18,
   "metadata": {},
   "outputs": [
    {
     "name": "stdout",
     "output_type": "stream",
     "text": "<class 'pandas.core.frame.DataFrame'>\nRangeIndex: 34 entries, 0 to 33\nData columns (total 4 columns):\nDistrict    34 non-null object\nMale        34 non-null object\nFemale      34 non-null object\nTotal       34 non-null object\ndtypes: object(4)\nmemory usage: 1.1+ KB\n"
    }
   ],
   "source": [
    "data.info()"
   ]
  },
  {
   "cell_type": "code",
   "execution_count": 19,
   "metadata": {},
   "outputs": [
    {
     "data": {
      "text/html": "<div>\n<style scoped>\n    .dataframe tbody tr th:only-of-type {\n        vertical-align: middle;\n    }\n\n    .dataframe tbody tr th {\n        vertical-align: top;\n    }\n\n    .dataframe thead th {\n        text-align: right;\n    }\n</style>\n<table border=\"1\" class=\"dataframe\">\n  <thead>\n    <tr style=\"text-align: right;\">\n      <th></th>\n      <th>District</th>\n      <th>Male</th>\n      <th>Female</th>\n      <th>Total</th>\n    </tr>\n  </thead>\n  <tbody>\n    <tr>\n      <th>0</th>\n      <td>Tegalsari</td>\n      <td>50,843</td>\n      <td>50,873</td>\n      <td>101,716</td>\n    </tr>\n    <tr>\n      <th>1</th>\n      <td>Genteng</td>\n      <td>29,387</td>\n      <td>29,886</td>\n      <td>59,273</td>\n    </tr>\n    <tr>\n      <th>2</th>\n      <td>Bubutan</td>\n      <td>50,909</td>\n      <td>50,903</td>\n      <td>101,812</td>\n    </tr>\n    <tr>\n      <th>3</th>\n      <td>Simokerto</td>\n      <td>48,905</td>\n      <td>48,808</td>\n      <td>97,713</td>\n    </tr>\n    <tr>\n      <th>4</th>\n      <td>Pabean Cantikan</td>\n      <td>41,419</td>\n      <td>40,964</td>\n      <td>82,383</td>\n    </tr>\n    <tr>\n      <th>5</th>\n      <td>Semampir</td>\n      <td>92,390</td>\n      <td>90,141</td>\n      <td>182,531</td>\n    </tr>\n    <tr>\n      <th>6</th>\n      <td>Krembangan</td>\n      <td>58,136</td>\n      <td>57,502</td>\n      <td>115,638</td>\n    </tr>\n    <tr>\n      <th>7</th>\n      <td>Kenjeran</td>\n      <td>74,597</td>\n      <td>72,160</td>\n      <td>146,757</td>\n    </tr>\n    <tr>\n      <th>8</th>\n      <td>Bulak</td>\n      <td>20,446</td>\n      <td>20,196</td>\n      <td>40,642</td>\n    </tr>\n    <tr>\n      <th>9</th>\n      <td>Tambaksari</td>\n      <td>108,625</td>\n      <td>108,475</td>\n      <td>217,100</td>\n    </tr>\n    <tr>\n      <th>10</th>\n      <td>Gubeng</td>\n      <td>67,403</td>\n      <td>69,218</td>\n      <td>136,621</td>\n    </tr>\n    <tr>\n      <th>11</th>\n      <td>Rungkut</td>\n      <td>52,120</td>\n      <td>51,926</td>\n      <td>104,046</td>\n    </tr>\n    <tr>\n      <th>12</th>\n      <td>Tenggilis Mejoyo</td>\n      <td>27,386</td>\n      <td>27,475</td>\n      <td>54,861</td>\n    </tr>\n    <tr>\n      <th>13</th>\n      <td>Gunung Anyar</td>\n      <td>26,188</td>\n      <td>25,932</td>\n      <td>52,120</td>\n    </tr>\n    <tr>\n      <th>14</th>\n      <td>Sukolilo</td>\n      <td>52,445</td>\n      <td>52,448</td>\n      <td>104,893</td>\n    </tr>\n    <tr>\n      <th>15</th>\n      <td>Mulyorejo</td>\n      <td>41,178</td>\n      <td>41,595</td>\n      <td>82,773</td>\n    </tr>\n    <tr>\n      <th>16</th>\n      <td>Sawahan</td>\n      <td>100,426</td>\n      <td>101,295</td>\n      <td>201,721</td>\n    </tr>\n    <tr>\n      <th>17</th>\n      <td>Wonokromo</td>\n      <td>79,629</td>\n      <td>80,335</td>\n      <td>159,964</td>\n    </tr>\n    <tr>\n      <th>18</th>\n      <td>Karangpilang</td>\n      <td>35,382</td>\n      <td>34,940</td>\n      <td>70,322</td>\n    </tr>\n    <tr>\n      <th>19</th>\n      <td>Dukuh Pakis</td>\n      <td>29,245</td>\n      <td>29,184</td>\n      <td>58,429</td>\n    </tr>\n    <tr>\n      <th>20</th>\n      <td>Wiyung</td>\n      <td>33,220</td>\n      <td>32,522</td>\n      <td>65,742</td>\n    </tr>\n    <tr>\n      <th>21</th>\n      <td>Wonocolo</td>\n      <td>39,299</td>\n      <td>39,038</td>\n      <td>78,337</td>\n    </tr>\n    <tr>\n      <th>22</th>\n      <td>Gayungan</td>\n      <td>22,104</td>\n      <td>21,988</td>\n      <td>44,092</td>\n    </tr>\n    <tr>\n      <th>23</th>\n      <td>Jambangan</td>\n      <td>23,986</td>\n      <td>23,562</td>\n      <td>47,548</td>\n    </tr>\n    <tr>\n      <th>24</th>\n      <td>Tandes</td>\n      <td>44,757</td>\n      <td>44,712</td>\n      <td>89,469</td>\n    </tr>\n    <tr>\n      <th>25</th>\n      <td>Sukomanunggal</td>\n      <td>49,067</td>\n      <td>48,842</td>\n      <td>97,909</td>\n    </tr>\n    <tr>\n      <th>26</th>\n      <td>Asemrowo</td>\n      <td>22,068</td>\n      <td>20,905</td>\n      <td>42,973</td>\n    </tr>\n    <tr>\n      <th>27</th>\n      <td>Benowo</td>\n      <td>28,145</td>\n      <td>27,609</td>\n      <td>55,754</td>\n    </tr>\n    <tr>\n      <th>28</th>\n      <td>Lakarsantri</td>\n      <td>27,042</td>\n      <td>26,430</td>\n      <td>53,472</td>\n    </tr>\n    <tr>\n      <th>29</th>\n      <td>Pakal</td>\n      <td>24,716</td>\n      <td>23,768</td>\n      <td>48,484</td>\n    </tr>\n    <tr>\n      <th>30</th>\n      <td>Sambikerep</td>\n      <td>29,522</td>\n      <td>29,044</td>\n      <td>58,566</td>\n    </tr>\n    <tr>\n      <th>31</th>\n      <td>Jumlah/Total</td>\n      <td>1,430,985</td>\n      <td>1,422,676</td>\n      <td>2,853,661</td>\n    </tr>\n    <tr>\n      <th>32</th>\n      <td>2013</td>\n      <td>1,602,875</td>\n      <td>1,597,579</td>\n      <td>3,200,454</td>\n    </tr>\n    <tr>\n      <th>33</th>\n      <td>2012</td>\n      <td>1,566,072</td>\n      <td>1,559,504</td>\n      <td>3,125,576</td>\n    </tr>\n  </tbody>\n</table>\n</div>",
      "text/plain": "                        District       Male     Female      Total\n0               Tegalsari            50,843     50,873    101,716\n1   Genteng                          29,387     29,886     59,273\n2                       Bubutan      50,909     50,903    101,812\n3   Simokerto                        48,905     48,808     97,713\n4                Pabean Cantikan     41,419     40,964     82,383\n5   Semampir                         92,390     90,141    182,531\n6   Krembangan                       58,136     57,502    115,638\n7   Kenjeran                         74,597     72,160    146,757\n8                          Bulak     20,446     20,196     40,642\n9   Tambaksari                      108,625    108,475    217,100\n10  Gubeng                           67,403     69,218    136,621\n11  Rungkut                          52,120     51,926    104,046\n12  Tenggilis Mejoyo                 27,386     27,475     54,861\n13  Gunung Anyar                     26,188     25,932     52,120\n14  Sukolilo                         52,445     52,448    104,893\n15  Mulyorejo                        41,178     41,595     82,773\n16   Sawahan                        100,426    101,295    201,721\n17   Wonokromo                       79,629     80,335    159,964\n18   Karangpilang                    35,382     34,940     70,322\n19   Dukuh Pakis                     29,245     29,184     58,429\n20   Wiyung                          33,220     32,522     65,742\n21   Wonocolo                        39,299     39,038     78,337\n22   Gayungan                        22,104     21,988     44,092\n23   Jambangan                       23,986     23,562     47,548\n24  Tandes                           44,757     44,712     89,469\n25  Sukomanunggal                    49,067     48,842     97,909\n26  Asemrowo                         22,068     20,905     42,973\n27  Benowo                           28,145     27,609     55,754\n28  Lakarsantri                      27,042     26,430     53,472\n29                         Pakal     24,716     23,768     48,484\n30                    Sambikerep     29,522     29,044     58,566\n31                  Jumlah/Total  1,430,985  1,422,676  2,853,661\n32                          2013  1,602,875  1,597,579  3,200,454\n33                          2012  1,566,072  1,559,504  3,125,576"
     },
     "execution_count": 19,
     "metadata": {},
     "output_type": "execute_result"
    }
   ],
   "source": [
    "data"
   ]
  },
  {
   "cell_type": "markdown",
   "execution_count": null,
   "metadata": {},
   "outputs": [],
   "source": [
    "Next step is change the string type of the number in **Male**, **Female** and **Total** since that we should getting these as a number."
   ]
  },
  {
   "cell_type": "code",
   "execution_count": 20,
   "metadata": {},
   "outputs": [],
   "source": [
    "def change(col1,col2,col3):\n",
    "    # changing the what columns that we should change\n",
    "    a = [col1,col2,col3]\n",
    "    for ii in range(3):\n",
    "        for i in range(len(data)):\n",
    "            dat = data[a[ii]][i]\n",
    "            # change the comma character into None\n",
    "            strings = dat.translate({ord(','): None})\n",
    "            data[a[ii]][i] = strings"
   ]
  },
  {
   "cell_type": "code",
   "execution_count": 21,
   "metadata": {},
   "outputs": [],
   "source": [
    "change('Male','Female','Total')"
   ]
  },
  {
   "cell_type": "code",
   "execution_count": 22,
   "metadata": {},
   "outputs": [
    {
     "data": {
      "text/html": "<div>\n<style scoped>\n    .dataframe tbody tr th:only-of-type {\n        vertical-align: middle;\n    }\n\n    .dataframe tbody tr th {\n        vertical-align: top;\n    }\n\n    .dataframe thead th {\n        text-align: right;\n    }\n</style>\n<table border=\"1\" class=\"dataframe\">\n  <thead>\n    <tr style=\"text-align: right;\">\n      <th></th>\n      <th>District</th>\n      <th>Male</th>\n      <th>Female</th>\n      <th>Total</th>\n    </tr>\n  </thead>\n  <tbody>\n    <tr>\n      <th>0</th>\n      <td>Tegalsari</td>\n      <td>50843</td>\n      <td>50873</td>\n      <td>101716</td>\n    </tr>\n    <tr>\n      <th>1</th>\n      <td>Genteng</td>\n      <td>29387</td>\n      <td>29886</td>\n      <td>59273</td>\n    </tr>\n    <tr>\n      <th>2</th>\n      <td>Bubutan</td>\n      <td>50909</td>\n      <td>50903</td>\n      <td>101812</td>\n    </tr>\n    <tr>\n      <th>3</th>\n      <td>Simokerto</td>\n      <td>48905</td>\n      <td>48808</td>\n      <td>97713</td>\n    </tr>\n    <tr>\n      <th>4</th>\n      <td>Pabean Cantikan</td>\n      <td>41419</td>\n      <td>40964</td>\n      <td>82383</td>\n    </tr>\n    <tr>\n      <th>5</th>\n      <td>Semampir</td>\n      <td>92390</td>\n      <td>90141</td>\n      <td>182531</td>\n    </tr>\n    <tr>\n      <th>6</th>\n      <td>Krembangan</td>\n      <td>58136</td>\n      <td>57502</td>\n      <td>115638</td>\n    </tr>\n    <tr>\n      <th>7</th>\n      <td>Kenjeran</td>\n      <td>74597</td>\n      <td>72160</td>\n      <td>146757</td>\n    </tr>\n    <tr>\n      <th>8</th>\n      <td>Bulak</td>\n      <td>20446</td>\n      <td>20196</td>\n      <td>40642</td>\n    </tr>\n    <tr>\n      <th>9</th>\n      <td>Tambaksari</td>\n      <td>108625</td>\n      <td>108475</td>\n      <td>217100</td>\n    </tr>\n    <tr>\n      <th>10</th>\n      <td>Gubeng</td>\n      <td>67403</td>\n      <td>69218</td>\n      <td>136621</td>\n    </tr>\n    <tr>\n      <th>11</th>\n      <td>Rungkut</td>\n      <td>52120</td>\n      <td>51926</td>\n      <td>104046</td>\n    </tr>\n    <tr>\n      <th>12</th>\n      <td>Tenggilis Mejoyo</td>\n      <td>27386</td>\n      <td>27475</td>\n      <td>54861</td>\n    </tr>\n    <tr>\n      <th>13</th>\n      <td>Gunung Anyar</td>\n      <td>26188</td>\n      <td>25932</td>\n      <td>52120</td>\n    </tr>\n    <tr>\n      <th>14</th>\n      <td>Sukolilo</td>\n      <td>52445</td>\n      <td>52448</td>\n      <td>104893</td>\n    </tr>\n    <tr>\n      <th>15</th>\n      <td>Mulyorejo</td>\n      <td>41178</td>\n      <td>41595</td>\n      <td>82773</td>\n    </tr>\n    <tr>\n      <th>16</th>\n      <td>Sawahan</td>\n      <td>100426</td>\n      <td>101295</td>\n      <td>201721</td>\n    </tr>\n    <tr>\n      <th>17</th>\n      <td>Wonokromo</td>\n      <td>79629</td>\n      <td>80335</td>\n      <td>159964</td>\n    </tr>\n    <tr>\n      <th>18</th>\n      <td>Karangpilang</td>\n      <td>35382</td>\n      <td>34940</td>\n      <td>70322</td>\n    </tr>\n    <tr>\n      <th>19</th>\n      <td>Dukuh Pakis</td>\n      <td>29245</td>\n      <td>29184</td>\n      <td>58429</td>\n    </tr>\n    <tr>\n      <th>20</th>\n      <td>Wiyung</td>\n      <td>33220</td>\n      <td>32522</td>\n      <td>65742</td>\n    </tr>\n    <tr>\n      <th>21</th>\n      <td>Wonocolo</td>\n      <td>39299</td>\n      <td>39038</td>\n      <td>78337</td>\n    </tr>\n    <tr>\n      <th>22</th>\n      <td>Gayungan</td>\n      <td>22104</td>\n      <td>21988</td>\n      <td>44092</td>\n    </tr>\n    <tr>\n      <th>23</th>\n      <td>Jambangan</td>\n      <td>23986</td>\n      <td>23562</td>\n      <td>47548</td>\n    </tr>\n    <tr>\n      <th>24</th>\n      <td>Tandes</td>\n      <td>44757</td>\n      <td>44712</td>\n      <td>89469</td>\n    </tr>\n    <tr>\n      <th>25</th>\n      <td>Sukomanunggal</td>\n      <td>49067</td>\n      <td>48842</td>\n      <td>97909</td>\n    </tr>\n    <tr>\n      <th>26</th>\n      <td>Asemrowo</td>\n      <td>22068</td>\n      <td>20905</td>\n      <td>42973</td>\n    </tr>\n    <tr>\n      <th>27</th>\n      <td>Benowo</td>\n      <td>28145</td>\n      <td>27609</td>\n      <td>55754</td>\n    </tr>\n    <tr>\n      <th>28</th>\n      <td>Lakarsantri</td>\n      <td>27042</td>\n      <td>26430</td>\n      <td>53472</td>\n    </tr>\n    <tr>\n      <th>29</th>\n      <td>Pakal</td>\n      <td>24716</td>\n      <td>23768</td>\n      <td>48484</td>\n    </tr>\n    <tr>\n      <th>30</th>\n      <td>Sambikerep</td>\n      <td>29522</td>\n      <td>29044</td>\n      <td>58566</td>\n    </tr>\n    <tr>\n      <th>31</th>\n      <td>Jumlah/Total</td>\n      <td>1430985</td>\n      <td>1422676</td>\n      <td>2853661</td>\n    </tr>\n    <tr>\n      <th>32</th>\n      <td>2013</td>\n      <td>1602875</td>\n      <td>1597579</td>\n      <td>3200454</td>\n    </tr>\n    <tr>\n      <th>33</th>\n      <td>2012</td>\n      <td>1566072</td>\n      <td>1559504</td>\n      <td>3125576</td>\n    </tr>\n  </tbody>\n</table>\n</div>",
      "text/plain": "                        District     Male   Female    Total\n0               Tegalsari           50843    50873   101716\n1   Genteng                         29387    29886    59273\n2                       Bubutan     50909    50903   101812\n3   Simokerto                       48905    48808    97713\n4                Pabean Cantikan    41419    40964    82383\n5   Semampir                        92390    90141   182531\n6   Krembangan                      58136    57502   115638\n7   Kenjeran                        74597    72160   146757\n8                          Bulak    20446    20196    40642\n9   Tambaksari                     108625   108475   217100\n10  Gubeng                          67403    69218   136621\n11  Rungkut                         52120    51926   104046\n12  Tenggilis Mejoyo                27386    27475    54861\n13  Gunung Anyar                    26188    25932    52120\n14  Sukolilo                        52445    52448   104893\n15  Mulyorejo                       41178    41595    82773\n16   Sawahan                       100426   101295   201721\n17   Wonokromo                      79629    80335   159964\n18   Karangpilang                   35382    34940    70322\n19   Dukuh Pakis                    29245    29184    58429\n20   Wiyung                         33220    32522    65742\n21   Wonocolo                       39299    39038    78337\n22   Gayungan                       22104    21988    44092\n23   Jambangan                      23986    23562    47548\n24  Tandes                          44757    44712    89469\n25  Sukomanunggal                   49067    48842    97909\n26  Asemrowo                        22068    20905    42973\n27  Benowo                          28145    27609    55754\n28  Lakarsantri                     27042    26430    53472\n29                         Pakal    24716    23768    48484\n30                    Sambikerep    29522    29044    58566\n31                  Jumlah/Total  1430985  1422676  2853661\n32                          2013  1602875  1597579  3200454\n33                          2012  1566072  1559504  3125576"
     },
     "execution_count": 22,
     "metadata": {},
     "output_type": "execute_result"
    }
   ],
   "source": [
    "data"
   ]
  },
  {
   "cell_type": "markdown",
   "execution_count": 23,
   "metadata": {
    "ExecuteTime": {
     "end_time": "2019-09-23T09:27:37.967800Z",
     "start_time": "2019-09-23T09:27:37.947914Z"
    }
   },
   "outputs": [
    {
     "data": {
      "text/plain": [
       "Index(['Kecamatan', 'Laki-Laki', 'Perempuan', 'Total'], dtype='object')"
      ]
     },
     "execution_count": 23,
     "metadata": {},
     "output_type": "execute_result"
    }
   ],
   "source": [
    "And don't forget to change the type from string to integer."
   ]
  },
  {
   "cell_type": "code",
   "execution_count": 23,
   "metadata": {},
   "outputs": [],
   "source": [
    "data[['Male', 'Female', 'Total']] = data[['Male', 'Female', 'Total']].astype(int)"
   ]
  },
  {
   "cell_type": "code",
   "execution_count": 24,
   "metadata": {},
   "outputs": [
    {
     "name": "stdout",
     "output_type": "stream",
     "text": "<class 'pandas.core.frame.DataFrame'>\nRangeIndex: 34 entries, 0 to 33\nData columns (total 4 columns):\nDistrict    34 non-null object\nMale        34 non-null int32\nFemale      34 non-null int32\nTotal       34 non-null int32\ndtypes: int32(3), object(1)\nmemory usage: 760.0+ bytes\n"
    }
   ],
   "source": [
    "data.info()"
   ]
  },
  {
   "cell_type": "code",
   "execution_count": 25,
   "metadata": {},
   "outputs": [
    {
     "data": {
      "text/html": "<div>\n<style scoped>\n    .dataframe tbody tr th:only-of-type {\n        vertical-align: middle;\n    }\n\n    .dataframe tbody tr th {\n        vertical-align: top;\n    }\n\n    .dataframe thead th {\n        text-align: right;\n    }\n</style>\n<table border=\"1\" class=\"dataframe\">\n  <thead>\n    <tr style=\"text-align: right;\">\n      <th></th>\n      <th>District</th>\n      <th>Male</th>\n      <th>Female</th>\n      <th>Total</th>\n    </tr>\n  </thead>\n  <tbody>\n    <tr>\n      <th>0</th>\n      <td>Tegalsari</td>\n      <td>50843</td>\n      <td>50873</td>\n      <td>101716</td>\n    </tr>\n    <tr>\n      <th>1</th>\n      <td>Genteng</td>\n      <td>29387</td>\n      <td>29886</td>\n      <td>59273</td>\n    </tr>\n    <tr>\n      <th>2</th>\n      <td>Bubutan</td>\n      <td>50909</td>\n      <td>50903</td>\n      <td>101812</td>\n    </tr>\n    <tr>\n      <th>3</th>\n      <td>Simokerto</td>\n      <td>48905</td>\n      <td>48808</td>\n      <td>97713</td>\n    </tr>\n    <tr>\n      <th>4</th>\n      <td>Pabean Cantikan</td>\n      <td>41419</td>\n      <td>40964</td>\n      <td>82383</td>\n    </tr>\n    <tr>\n      <th>5</th>\n      <td>Semampir</td>\n      <td>92390</td>\n      <td>90141</td>\n      <td>182531</td>\n    </tr>\n    <tr>\n      <th>6</th>\n      <td>Krembangan</td>\n      <td>58136</td>\n      <td>57502</td>\n      <td>115638</td>\n    </tr>\n    <tr>\n      <th>7</th>\n      <td>Kenjeran</td>\n      <td>74597</td>\n      <td>72160</td>\n      <td>146757</td>\n    </tr>\n    <tr>\n      <th>8</th>\n      <td>Bulak</td>\n      <td>20446</td>\n      <td>20196</td>\n      <td>40642</td>\n    </tr>\n    <tr>\n      <th>9</th>\n      <td>Tambaksari</td>\n      <td>108625</td>\n      <td>108475</td>\n      <td>217100</td>\n    </tr>\n    <tr>\n      <th>10</th>\n      <td>Gubeng</td>\n      <td>67403</td>\n      <td>69218</td>\n      <td>136621</td>\n    </tr>\n    <tr>\n      <th>11</th>\n      <td>Rungkut</td>\n      <td>52120</td>\n      <td>51926</td>\n      <td>104046</td>\n    </tr>\n    <tr>\n      <th>12</th>\n      <td>Tenggilis Mejoyo</td>\n      <td>27386</td>\n      <td>27475</td>\n      <td>54861</td>\n    </tr>\n    <tr>\n      <th>13</th>\n      <td>Gunung Anyar</td>\n      <td>26188</td>\n      <td>25932</td>\n      <td>52120</td>\n    </tr>\n    <tr>\n      <th>14</th>\n      <td>Sukolilo</td>\n      <td>52445</td>\n      <td>52448</td>\n      <td>104893</td>\n    </tr>\n    <tr>\n      <th>15</th>\n      <td>Mulyorejo</td>\n      <td>41178</td>\n      <td>41595</td>\n      <td>82773</td>\n    </tr>\n    <tr>\n      <th>16</th>\n      <td>Sawahan</td>\n      <td>100426</td>\n      <td>101295</td>\n      <td>201721</td>\n    </tr>\n    <tr>\n      <th>17</th>\n      <td>Wonokromo</td>\n      <td>79629</td>\n      <td>80335</td>\n      <td>159964</td>\n    </tr>\n    <tr>\n      <th>18</th>\n      <td>Karangpilang</td>\n      <td>35382</td>\n      <td>34940</td>\n      <td>70322</td>\n    </tr>\n    <tr>\n      <th>19</th>\n      <td>Dukuh Pakis</td>\n      <td>29245</td>\n      <td>29184</td>\n      <td>58429</td>\n    </tr>\n    <tr>\n      <th>20</th>\n      <td>Wiyung</td>\n      <td>33220</td>\n      <td>32522</td>\n      <td>65742</td>\n    </tr>\n    <tr>\n      <th>21</th>\n      <td>Wonocolo</td>\n      <td>39299</td>\n      <td>39038</td>\n      <td>78337</td>\n    </tr>\n    <tr>\n      <th>22</th>\n      <td>Gayungan</td>\n      <td>22104</td>\n      <td>21988</td>\n      <td>44092</td>\n    </tr>\n    <tr>\n      <th>23</th>\n      <td>Jambangan</td>\n      <td>23986</td>\n      <td>23562</td>\n      <td>47548</td>\n    </tr>\n    <tr>\n      <th>24</th>\n      <td>Tandes</td>\n      <td>44757</td>\n      <td>44712</td>\n      <td>89469</td>\n    </tr>\n    <tr>\n      <th>25</th>\n      <td>Sukomanunggal</td>\n      <td>49067</td>\n      <td>48842</td>\n      <td>97909</td>\n    </tr>\n    <tr>\n      <th>26</th>\n      <td>Asemrowo</td>\n      <td>22068</td>\n      <td>20905</td>\n      <td>42973</td>\n    </tr>\n    <tr>\n      <th>27</th>\n      <td>Benowo</td>\n      <td>28145</td>\n      <td>27609</td>\n      <td>55754</td>\n    </tr>\n    <tr>\n      <th>28</th>\n      <td>Lakarsantri</td>\n      <td>27042</td>\n      <td>26430</td>\n      <td>53472</td>\n    </tr>\n    <tr>\n      <th>29</th>\n      <td>Pakal</td>\n      <td>24716</td>\n      <td>23768</td>\n      <td>48484</td>\n    </tr>\n    <tr>\n      <th>30</th>\n      <td>Sambikerep</td>\n      <td>29522</td>\n      <td>29044</td>\n      <td>58566</td>\n    </tr>\n    <tr>\n      <th>31</th>\n      <td>Jumlah/Total</td>\n      <td>1430985</td>\n      <td>1422676</td>\n      <td>2853661</td>\n    </tr>\n    <tr>\n      <th>32</th>\n      <td>2013</td>\n      <td>1602875</td>\n      <td>1597579</td>\n      <td>3200454</td>\n    </tr>\n    <tr>\n      <th>33</th>\n      <td>2012</td>\n      <td>1566072</td>\n      <td>1559504</td>\n      <td>3125576</td>\n    </tr>\n  </tbody>\n</table>\n</div>",
      "text/plain": "                        District     Male   Female    Total\n0               Tegalsari           50843    50873   101716\n1   Genteng                         29387    29886    59273\n2                       Bubutan     50909    50903   101812\n3   Simokerto                       48905    48808    97713\n4                Pabean Cantikan    41419    40964    82383\n5   Semampir                        92390    90141   182531\n6   Krembangan                      58136    57502   115638\n7   Kenjeran                        74597    72160   146757\n8                          Bulak    20446    20196    40642\n9   Tambaksari                     108625   108475   217100\n10  Gubeng                          67403    69218   136621\n11  Rungkut                         52120    51926   104046\n12  Tenggilis Mejoyo                27386    27475    54861\n13  Gunung Anyar                    26188    25932    52120\n14  Sukolilo                        52445    52448   104893\n15  Mulyorejo                       41178    41595    82773\n16   Sawahan                       100426   101295   201721\n17   Wonokromo                      79629    80335   159964\n18   Karangpilang                   35382    34940    70322\n19   Dukuh Pakis                    29245    29184    58429\n20   Wiyung                         33220    32522    65742\n21   Wonocolo                       39299    39038    78337\n22   Gayungan                       22104    21988    44092\n23   Jambangan                      23986    23562    47548\n24  Tandes                          44757    44712    89469\n25  Sukomanunggal                   49067    48842    97909\n26  Asemrowo                        22068    20905    42973\n27  Benowo                          28145    27609    55754\n28  Lakarsantri                     27042    26430    53472\n29                         Pakal    24716    23768    48484\n30                    Sambikerep    29522    29044    58566\n31                  Jumlah/Total  1430985  1422676  2853661\n32                          2013  1602875  1597579  3200454\n33                          2012  1566072  1559504  3125576"
     },
     "execution_count": 25,
     "metadata": {},
     "output_type": "execute_result"
    }
   ],
   "source": [
    "data"
   ]
  },
  {
   "cell_type": "markdown",
   "execution_count": null,
   "metadata": {},
   "outputs": [],
   "source": [
    "Everything is alright, shall we save this data? No, because we should clean one more columns, the District, because..."
   ]
  },
  {
   "cell_type": "code",
   "execution_count": 27,
   "metadata": {},
   "outputs": [
    {
     "data": {
      "text/plain": "array(['Tegalsari\\xa0\\xa0\\xa0\\xa0\\xa0\\xa0\\xa0',\n       'Genteng\\xa0\\xa0\\xa0\\xa0\\xa0\\xa0\\xa0\\xa0\\xa0\\xa0\\xa0\\xa0\\xa0\\xa0\\xa0\\xa0\\xa0\\xa0\\xa0\\xa0\\xa0',\n       'Bubutan\\xa0',\n       'Simokerto\\xa0\\xa0\\xa0\\xa0\\xa0\\xa0\\xa0\\xa0\\xa0\\xa0\\xa0\\xa0\\xa0\\xa0\\xa0\\xa0\\xa0\\xa0\\xa0',\n       'Pabean Cantikan',\n       'Semampir\\xa0\\xa0\\xa0\\xa0\\xa0\\xa0\\xa0\\xa0\\xa0\\xa0\\xa0\\xa0\\xa0\\xa0\\xa0\\xa0\\xa0\\xa0\\xa0\\xa0',\n       'Krembangan\\xa0\\xa0\\xa0\\xa0\\xa0\\xa0\\xa0\\xa0\\xa0\\xa0\\xa0\\xa0\\xa0\\xa0\\xa0\\xa0\\xa0\\xa0',\n       'Kenjeran\\xa0\\xa0\\xa0\\xa0\\xa0\\xa0\\xa0\\xa0\\xa0\\xa0\\xa0\\xa0\\xa0\\xa0\\xa0\\xa0\\xa0\\xa0\\xa0\\xa0',\n       'Bulak',\n       'Tambaksari\\xa0\\xa0\\xa0\\xa0\\xa0\\xa0\\xa0\\xa0\\xa0\\xa0\\xa0\\xa0\\xa0\\xa0\\xa0\\xa0\\xa0\\xa0',\n       'Gubeng\\xa0\\xa0\\xa0\\xa0\\xa0\\xa0\\xa0\\xa0\\xa0\\xa0\\xa0\\xa0\\xa0\\xa0\\xa0\\xa0\\xa0\\xa0\\xa0\\xa0\\xa0\\xa0',\n       'Rungkut\\xa0\\xa0\\xa0\\xa0\\xa0\\xa0\\xa0\\xa0\\xa0\\xa0\\xa0\\xa0\\xa0\\xa0\\xa0\\xa0\\xa0\\xa0\\xa0\\xa0\\xa0',\n       'Tenggilis Mejoyo\\xa0\\xa0\\xa0\\xa0\\xa0\\xa0\\xa0\\xa0\\xa0\\xa0\\xa0\\xa0',\n       'Gunung Anyar\\xa0\\xa0\\xa0\\xa0\\xa0\\xa0\\xa0\\xa0\\xa0\\xa0\\xa0\\xa0\\xa0\\xa0\\xa0\\xa0',\n       'Sukolilo\\xa0\\xa0\\xa0\\xa0\\xa0\\xa0\\xa0\\xa0\\xa0\\xa0\\xa0\\xa0\\xa0\\xa0\\xa0\\xa0\\xa0\\xa0\\xa0\\xa0',\n       'Mulyorejo\\xa0\\xa0\\xa0\\xa0\\xa0\\xa0\\xa0\\xa0\\xa0\\xa0\\xa0\\xa0\\xa0\\xa0\\xa0\\xa0\\xa0\\xa0\\xa0',\n       'Sawahan\\xa0\\xa0\\xa0\\xa0\\xa0\\xa0\\xa0\\xa0\\xa0\\xa0\\xa0\\xa0\\xa0\\xa0\\xa0\\xa0\\xa0\\xa0\\xa0\\xa0',\n       'Wonokromo\\xa0\\xa0\\xa0\\xa0\\xa0\\xa0\\xa0\\xa0\\xa0\\xa0\\xa0\\xa0\\xa0\\xa0\\xa0\\xa0\\xa0\\xa0',\n       'Karangpilang\\xa0\\xa0\\xa0\\xa0\\xa0\\xa0\\xa0\\xa0\\xa0\\xa0\\xa0\\xa0\\xa0\\xa0\\xa0',\n       'Dukuh Pakis\\xa0\\xa0\\xa0\\xa0\\xa0\\xa0\\xa0\\xa0\\xa0\\xa0\\xa0\\xa0\\xa0\\xa0\\xa0\\xa0',\n       'Wiyung\\xa0\\xa0\\xa0\\xa0\\xa0\\xa0\\xa0\\xa0\\xa0\\xa0\\xa0\\xa0\\xa0\\xa0\\xa0\\xa0\\xa0\\xa0\\xa0\\xa0\\xa0',\n       'Wonocolo\\xa0\\xa0\\xa0\\xa0\\xa0\\xa0\\xa0\\xa0\\xa0\\xa0\\xa0\\xa0\\xa0\\xa0\\xa0\\xa0\\xa0\\xa0\\xa0',\n       'Gayungan\\xa0\\xa0\\xa0\\xa0\\xa0\\xa0\\xa0\\xa0\\xa0\\xa0\\xa0\\xa0\\xa0\\xa0\\xa0\\xa0\\xa0\\xa0\\xa0',\n       'Jambangan\\xa0\\xa0\\xa0\\xa0\\xa0\\xa0\\xa0\\xa0\\xa0\\xa0\\xa0\\xa0\\xa0\\xa0\\xa0\\xa0\\xa0\\xa0',\n       'Tandes\\xa0\\xa0\\xa0\\xa0\\xa0\\xa0\\xa0\\xa0\\xa0\\xa0\\xa0\\xa0\\xa0\\xa0\\xa0\\xa0\\xa0\\xa0\\xa0\\xa0\\xa0\\xa0',\n       'Sukomanunggal\\xa0\\xa0\\xa0\\xa0\\xa0\\xa0\\xa0\\xa0\\xa0\\xa0\\xa0\\xa0\\xa0\\xa0\\xa0',\n       'Asemrowo\\xa0\\xa0\\xa0\\xa0\\xa0\\xa0\\xa0\\xa0\\xa0\\xa0\\xa0\\xa0\\xa0\\xa0\\xa0\\xa0\\xa0\\xa0\\xa0\\xa0',\n       'Benowo\\xa0\\xa0\\xa0\\xa0\\xa0\\xa0\\xa0\\xa0\\xa0\\xa0\\xa0\\xa0\\xa0\\xa0\\xa0\\xa0\\xa0\\xa0\\xa0\\xa0\\xa0\\xa0',\n       'Lakarsantri\\xa0\\xa0\\xa0\\xa0\\xa0\\xa0\\xa0\\xa0\\xa0\\xa0\\xa0\\xa0\\xa0\\xa0\\xa0\\xa0\\xa0',\n       'Pakal', 'Sambikerep', 'Jumlah/Total', '2013', '2012'],\n      dtype=object)"
     },
     "execution_count": 27,
     "metadata": {},
     "output_type": "execute_result"
    }
   ],
   "source": [
    "data.District.unique()"
   ]
  },
  {
   "cell_type": "markdown",
   "execution_count": null,
   "metadata": {},
   "outputs": [],
   "source": [
    "So, in order to do that, we should again change the strange character into  None character."
   ]
  },
  {
   "cell_type": "code",
   "execution_count": 29,
   "metadata": {},
   "outputs": [
    {
     "name": "stderr",
     "output_type": "stream",
     "text": "C:\\Users\\User\\Anaconda3\\lib\\site-packages\\ipykernel_launcher.py:5: SettingWithCopyWarning: \nA value is trying to be set on a copy of a slice from a DataFrame\n\nSee the caveats in the documentation: http://pandas.pydata.org/pandas-docs/stable/indexing.html#indexing-view-versus-copy\n  \"\"\"\n"
    }
   ],
   "source": [
    "for i in range(len(data)):\n",
    "    dat = data['District'][i]\n",
    "    # change the strange into None\n",
    "    strings = dat.translate({ord('\\xa0'): None})\n",
    "    data['District'][i] = strings"
   ]
  },
  {
   "cell_type": "markdown",
   "execution_count": null,
   "metadata": {},
   "outputs": [],
   "source": [
    "Check again"
   ]
  },
  {
   "cell_type": "code",
   "execution_count": 30,
   "metadata": {},
   "outputs": [
    {
     "data": {
      "text/plain": "array(['Tegalsari', 'Genteng', 'Bubutan', 'Simokerto', 'Pabean Cantikan',\n       'Semampir', 'Krembangan', 'Kenjeran', 'Bulak', 'Tambaksari',\n       'Gubeng', 'Rungkut', 'Tenggilis Mejoyo', 'Gunung Anyar',\n       'Sukolilo', 'Mulyorejo', 'Sawahan', 'Wonokromo', 'Karangpilang',\n       'Dukuh Pakis', 'Wiyung', 'Wonocolo', 'Gayungan', 'Jambangan',\n       'Tandes', 'Sukomanunggal', 'Asemrowo', 'Benowo', 'Lakarsantri',\n       'Pakal', 'Sambikerep', 'Jumlah/Total', '2013', '2012'],\n      dtype=object)"
     },
     "execution_count": 30,
     "metadata": {},
     "output_type": "execute_result"
    }
   ],
   "source": [
    "data.District.unique()"
   ]
  },
  {
   "cell_type": "markdown",
   "execution_count": null,
   "metadata": {},
   "outputs": [],
   "source": [
    "Everything is alright, and yeah just save it into csv, we are currently separated into 2 files, the full one, and the clean one."
   ]
  },
  {
   "cell_type": "code",
   "execution_count": 31,
   "metadata": {},
   "outputs": [],
   "source": [
    "data.to_csv(\"Data Penduduk Surabaya+1213.csv\", index=False)\n",
    "data[:31].to_csv(\"Data Penduduk Surabaya.csv\", index=False)"
   ]
  },
  {
   "cell_type": "markdown",
   "execution_count": null,
   "metadata": {},
   "outputs": [],
   "source": [
    "Part 1 is done, now move on to the next program."
   ]
  },
  {
   "cell_type": "code",
   "execution_count": null,
   "metadata": {},
   "outputs": [],
   "source": []
  }
 ],
 "metadata": {
  "kernelspec": {
   "display_name": "Python 3",
   "language": "python",
   "name": "python3"
  },
  "language_info": {
   "codemirror_mode": {
    "name": "ipython",
    "version": 3
   },
   "file_extension": ".py",
   "mimetype": "text/x-python",
   "name": "python",
   "nbconvert_exporter": "python",
   "pygments_lexer": "ipython3",
   "version": "3.7.3"
  },
  "toc": {
   "base_numbering": 1,
   "nav_menu": {},
   "number_sections": true,
   "sideBar": true,
   "skip_h1_title": false,
   "title_cell": "Table of Contents",
   "title_sidebar": "Contents",
   "toc_cell": false,
   "toc_position": {},
   "toc_section_display": true,
   "toc_window_display": false
  },
  "varInspector": {
   "cols": {
    "lenName": 16,
    "lenType": 16,
    "lenVar": 40
   },
   "kernels_config": {
    "python": {
     "delete_cmd_postfix": "",
     "delete_cmd_prefix": "del ",
     "library": "var_list.py",
     "varRefreshCmd": "print(var_dic_list())"
    },
    "r": {
     "delete_cmd_postfix": ") ",
     "delete_cmd_prefix": "rm(",
     "library": "var_list.r",
     "varRefreshCmd": "cat(var_dic_list()) "
    }
   },
   "types_to_exclude": [
    "module",
    "function",
    "builtin_function_or_method",
    "instance",
    "_Feature"
   ],
   "window_display": false
  }
 },
 "nbformat": 4,
 "nbformat_minor": 2
}